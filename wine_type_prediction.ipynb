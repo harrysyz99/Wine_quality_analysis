{
 "cells": [
  {
   "cell_type": "markdown",
   "id": "edf2a3f1-cb66-44d1-aa18-7c1d0c5f0779",
   "metadata": {},
   "source": [
    "# Wine type prediction"
   ]
  },
  {
   "cell_type": "code",
   "execution_count": 1,
   "id": "898f8d9a-1123-41b7-bb50-072d42e1cf98",
   "metadata": {},
   "outputs": [],
   "source": [
    "import pandas as pd\n",
    "import random\n",
    "import matplotlib.pyplot as plt\n",
    "import matplotlib.patches as mpatches\n",
    "import numpy as np\n",
    "from collections import Counter\n",
    "from sklearn import model_selection,linear_model,metrics\n",
    "import seaborn as sns\n",
    "from statistics import mean\n",
    "from matplotlib import style"
   ]
  },
  {
   "cell_type": "markdown",
   "id": "6d44a362-6413-4cb2-a072-6518fab20b4e",
   "metadata": {},
   "source": [
    "## Introduction"
   ]
  },
  {
   "cell_type": "markdown",
   "id": "e32b380c-9e8e-4ae5-a924-02fbe43eef70",
   "metadata": {},
   "source": [
    "Recently people like to drink alchol and wine plays an really important rule in the alchol family. In this project I will use the dataset from kaggles to predict the type of the wine such as red wine and white wine according to other 10 different variables including fixed acidity, volatile acidity,citric acid,residual sugar,chlorides,free sulfur dioxide,total sulfur dioxide,density,pH,sulphates,alcohol,quality, in which all the variables except the quality, and type are continuous numerical variables. This project is published on github with the name of [Wine_quality_analysis](https://github.com/harrysyz99/Wine_quality_analysis)"
   ]
  },
  {
   "cell_type": "markdown",
   "id": "3ca1bc92-da5e-41bc-9ffd-b0f2ea48c8ef",
   "metadata": {},
   "source": [
    "This project also have a publish [github repo](https://github.com/harrysyz99/Wine_quality_analysis), and this project is using the MIT defult license. If you want to directly use all the information or you can directly use run the code without setting the environment or file path please look at the gitrepo and clone the git repo on your local machine."
   ]
  },
  {
   "cell_type": "markdown",
   "id": "a72e40c9-17f0-4ae8-b277-e8074128d722",
   "metadata": {
    "tags": []
   },
   "source": [
    "## Dataset"
   ]
  },
  {
   "cell_type": "markdown",
   "id": "928b3d8d-3005-4e9c-b7b5-fb45735c652b",
   "metadata": {},
   "source": [
    "This dataset is from kaggle free and public dataset the original name of the datset is called [Wine Quality](https://www.kaggle.com/datasets/rajyellow46/wine-quality). According to the discription this dataset is originally from the UCI data set website, which is called the same name [wine Quality on UCI](https://archive.ics.uci.edu/ml/datasets/wine+quality),these two links has been copied to the references part at the end. These data set have is ordered by the type of the wine but the sample size between two types of the wine are different. Therefore when I preprocessed the dataset I need to do some spliting first. "
   ]
  },
  {
   "cell_type": "markdown",
   "id": "4cb86d3f-a6dc-4510-bd37-d4d28da57906",
   "metadata": {},
   "source": [
    "The next cell is loading the data and since there are some of the variables have na existed and in order to avoid the possible conflict, I used the dropna() function to drop every NA from the dataset."
   ]
  },
  {
   "cell_type": "code",
   "execution_count": 2,
   "id": "fc2fd75b-2edb-405a-b4c5-ec11d6a10368",
   "metadata": {},
   "outputs": [
    {
     "data": {
      "text/html": [
       "<div>\n",
       "<style scoped>\n",
       "    .dataframe tbody tr th:only-of-type {\n",
       "        vertical-align: middle;\n",
       "    }\n",
       "\n",
       "    .dataframe tbody tr th {\n",
       "        vertical-align: top;\n",
       "    }\n",
       "\n",
       "    .dataframe thead th {\n",
       "        text-align: right;\n",
       "    }\n",
       "</style>\n",
       "<table border=\"1\" class=\"dataframe\">\n",
       "  <thead>\n",
       "    <tr style=\"text-align: right;\">\n",
       "      <th></th>\n",
       "      <th>type</th>\n",
       "      <th>fixed acidity</th>\n",
       "      <th>volatile acidity</th>\n",
       "      <th>citric acid</th>\n",
       "      <th>residual sugar</th>\n",
       "      <th>chlorides</th>\n",
       "      <th>free sulfur dioxide</th>\n",
       "      <th>total sulfur dioxide</th>\n",
       "      <th>density</th>\n",
       "      <th>pH</th>\n",
       "      <th>sulphates</th>\n",
       "      <th>alcohol</th>\n",
       "      <th>quality</th>\n",
       "    </tr>\n",
       "  </thead>\n",
       "  <tbody>\n",
       "    <tr>\n",
       "      <th>0</th>\n",
       "      <td>white</td>\n",
       "      <td>7.0</td>\n",
       "      <td>0.270</td>\n",
       "      <td>0.36</td>\n",
       "      <td>20.7</td>\n",
       "      <td>0.045</td>\n",
       "      <td>45.0</td>\n",
       "      <td>170.0</td>\n",
       "      <td>1.00100</td>\n",
       "      <td>3.00</td>\n",
       "      <td>0.45</td>\n",
       "      <td>8.8</td>\n",
       "      <td>6</td>\n",
       "    </tr>\n",
       "    <tr>\n",
       "      <th>1</th>\n",
       "      <td>white</td>\n",
       "      <td>6.3</td>\n",
       "      <td>0.300</td>\n",
       "      <td>0.34</td>\n",
       "      <td>1.6</td>\n",
       "      <td>0.049</td>\n",
       "      <td>14.0</td>\n",
       "      <td>132.0</td>\n",
       "      <td>0.99400</td>\n",
       "      <td>3.30</td>\n",
       "      <td>0.49</td>\n",
       "      <td>9.5</td>\n",
       "      <td>6</td>\n",
       "    </tr>\n",
       "    <tr>\n",
       "      <th>2</th>\n",
       "      <td>white</td>\n",
       "      <td>8.1</td>\n",
       "      <td>0.280</td>\n",
       "      <td>0.40</td>\n",
       "      <td>6.9</td>\n",
       "      <td>0.050</td>\n",
       "      <td>30.0</td>\n",
       "      <td>97.0</td>\n",
       "      <td>0.99510</td>\n",
       "      <td>3.26</td>\n",
       "      <td>0.44</td>\n",
       "      <td>10.1</td>\n",
       "      <td>6</td>\n",
       "    </tr>\n",
       "    <tr>\n",
       "      <th>3</th>\n",
       "      <td>white</td>\n",
       "      <td>7.2</td>\n",
       "      <td>0.230</td>\n",
       "      <td>0.32</td>\n",
       "      <td>8.5</td>\n",
       "      <td>0.058</td>\n",
       "      <td>47.0</td>\n",
       "      <td>186.0</td>\n",
       "      <td>0.99560</td>\n",
       "      <td>3.19</td>\n",
       "      <td>0.40</td>\n",
       "      <td>9.9</td>\n",
       "      <td>6</td>\n",
       "    </tr>\n",
       "    <tr>\n",
       "      <th>4</th>\n",
       "      <td>white</td>\n",
       "      <td>7.2</td>\n",
       "      <td>0.230</td>\n",
       "      <td>0.32</td>\n",
       "      <td>8.5</td>\n",
       "      <td>0.058</td>\n",
       "      <td>47.0</td>\n",
       "      <td>186.0</td>\n",
       "      <td>0.99560</td>\n",
       "      <td>3.19</td>\n",
       "      <td>0.40</td>\n",
       "      <td>9.9</td>\n",
       "      <td>6</td>\n",
       "    </tr>\n",
       "    <tr>\n",
       "      <th>...</th>\n",
       "      <td>...</td>\n",
       "      <td>...</td>\n",
       "      <td>...</td>\n",
       "      <td>...</td>\n",
       "      <td>...</td>\n",
       "      <td>...</td>\n",
       "      <td>...</td>\n",
       "      <td>...</td>\n",
       "      <td>...</td>\n",
       "      <td>...</td>\n",
       "      <td>...</td>\n",
       "      <td>...</td>\n",
       "      <td>...</td>\n",
       "    </tr>\n",
       "    <tr>\n",
       "      <th>6491</th>\n",
       "      <td>red</td>\n",
       "      <td>6.8</td>\n",
       "      <td>0.620</td>\n",
       "      <td>0.08</td>\n",
       "      <td>1.9</td>\n",
       "      <td>0.068</td>\n",
       "      <td>28.0</td>\n",
       "      <td>38.0</td>\n",
       "      <td>0.99651</td>\n",
       "      <td>3.42</td>\n",
       "      <td>0.82</td>\n",
       "      <td>9.5</td>\n",
       "      <td>6</td>\n",
       "    </tr>\n",
       "    <tr>\n",
       "      <th>6492</th>\n",
       "      <td>red</td>\n",
       "      <td>6.2</td>\n",
       "      <td>0.600</td>\n",
       "      <td>0.08</td>\n",
       "      <td>2.0</td>\n",
       "      <td>0.090</td>\n",
       "      <td>32.0</td>\n",
       "      <td>44.0</td>\n",
       "      <td>0.99490</td>\n",
       "      <td>3.45</td>\n",
       "      <td>0.58</td>\n",
       "      <td>10.5</td>\n",
       "      <td>5</td>\n",
       "    </tr>\n",
       "    <tr>\n",
       "      <th>6494</th>\n",
       "      <td>red</td>\n",
       "      <td>6.3</td>\n",
       "      <td>0.510</td>\n",
       "      <td>0.13</td>\n",
       "      <td>2.3</td>\n",
       "      <td>0.076</td>\n",
       "      <td>29.0</td>\n",
       "      <td>40.0</td>\n",
       "      <td>0.99574</td>\n",
       "      <td>3.42</td>\n",
       "      <td>0.75</td>\n",
       "      <td>11.0</td>\n",
       "      <td>6</td>\n",
       "    </tr>\n",
       "    <tr>\n",
       "      <th>6495</th>\n",
       "      <td>red</td>\n",
       "      <td>5.9</td>\n",
       "      <td>0.645</td>\n",
       "      <td>0.12</td>\n",
       "      <td>2.0</td>\n",
       "      <td>0.075</td>\n",
       "      <td>32.0</td>\n",
       "      <td>44.0</td>\n",
       "      <td>0.99547</td>\n",
       "      <td>3.57</td>\n",
       "      <td>0.71</td>\n",
       "      <td>10.2</td>\n",
       "      <td>5</td>\n",
       "    </tr>\n",
       "    <tr>\n",
       "      <th>6496</th>\n",
       "      <td>red</td>\n",
       "      <td>6.0</td>\n",
       "      <td>0.310</td>\n",
       "      <td>0.47</td>\n",
       "      <td>3.6</td>\n",
       "      <td>0.067</td>\n",
       "      <td>18.0</td>\n",
       "      <td>42.0</td>\n",
       "      <td>0.99549</td>\n",
       "      <td>3.39</td>\n",
       "      <td>0.66</td>\n",
       "      <td>11.0</td>\n",
       "      <td>6</td>\n",
       "    </tr>\n",
       "  </tbody>\n",
       "</table>\n",
       "<p>6463 rows × 13 columns</p>\n",
       "</div>"
      ],
      "text/plain": [
       "       type  fixed acidity  volatile acidity  citric acid  residual sugar  \\\n",
       "0     white            7.0             0.270         0.36            20.7   \n",
       "1     white            6.3             0.300         0.34             1.6   \n",
       "2     white            8.1             0.280         0.40             6.9   \n",
       "3     white            7.2             0.230         0.32             8.5   \n",
       "4     white            7.2             0.230         0.32             8.5   \n",
       "...     ...            ...               ...          ...             ...   \n",
       "6491    red            6.8             0.620         0.08             1.9   \n",
       "6492    red            6.2             0.600         0.08             2.0   \n",
       "6494    red            6.3             0.510         0.13             2.3   \n",
       "6495    red            5.9             0.645         0.12             2.0   \n",
       "6496    red            6.0             0.310         0.47             3.6   \n",
       "\n",
       "      chlorides  free sulfur dioxide  total sulfur dioxide  density    pH  \\\n",
       "0         0.045                 45.0                 170.0  1.00100  3.00   \n",
       "1         0.049                 14.0                 132.0  0.99400  3.30   \n",
       "2         0.050                 30.0                  97.0  0.99510  3.26   \n",
       "3         0.058                 47.0                 186.0  0.99560  3.19   \n",
       "4         0.058                 47.0                 186.0  0.99560  3.19   \n",
       "...         ...                  ...                   ...      ...   ...   \n",
       "6491      0.068                 28.0                  38.0  0.99651  3.42   \n",
       "6492      0.090                 32.0                  44.0  0.99490  3.45   \n",
       "6494      0.076                 29.0                  40.0  0.99574  3.42   \n",
       "6495      0.075                 32.0                  44.0  0.99547  3.57   \n",
       "6496      0.067                 18.0                  42.0  0.99549  3.39   \n",
       "\n",
       "      sulphates  alcohol  quality  \n",
       "0          0.45      8.8        6  \n",
       "1          0.49      9.5        6  \n",
       "2          0.44     10.1        6  \n",
       "3          0.40      9.9        6  \n",
       "4          0.40      9.9        6  \n",
       "...         ...      ...      ...  \n",
       "6491       0.82      9.5        6  \n",
       "6492       0.58     10.5        5  \n",
       "6494       0.75     11.0        6  \n",
       "6495       0.71     10.2        5  \n",
       "6496       0.66     11.0        6  \n",
       "\n",
       "[6463 rows x 13 columns]"
      ]
     },
     "execution_count": 2,
     "metadata": {},
     "output_type": "execute_result"
    }
   ],
   "source": [
    "winedataset = pd.read_csv(\"winequalityN.csv\").dropna()\n",
    "winedataset"
   ]
  },
  {
   "cell_type": "markdown",
   "id": "cf42851b-1258-423d-b05b-93740df5aaaa",
   "metadata": {},
   "source": [
    "As I mentioned before the sample size between two type of the wine are diffenence and we can find out that there is a huge difference between two types. Since we will split the train test data I will randomly select 1593 white wine out of the 4870 white wine. In order to make sure that when we split the train and testing data we could have the same sample size between two types of wine in order to avoid any bias situation."
   ]
  },
  {
   "cell_type": "code",
   "execution_count": 3,
   "id": "a061b790-98bf-446a-bd86-f4e9a9af0be0",
   "metadata": {},
   "outputs": [
    {
     "data": {
      "text/plain": [
       "type\n",
       "red      1593\n",
       "white    4870\n",
       "dtype: int64"
      ]
     },
     "execution_count": 3,
     "metadata": {},
     "output_type": "execute_result"
    }
   ],
   "source": [
    "typecount = winedataset.groupby(\"type\").size()\n",
    "typecount"
   ]
  },
  {
   "cell_type": "code",
   "execution_count": 4,
   "id": "94903e11-e3b8-4570-9459-dd978261bc82",
   "metadata": {},
   "outputs": [
    {
     "data": {
      "text/plain": [
       "<BarContainer object of 2 artists>"
      ]
     },
     "execution_count": 4,
     "metadata": {},
     "output_type": "execute_result"
    },
    {
     "data": {
      "image/png": "[encoded data removed]",
      "text/plain": [
       "<Figure size 432x288 with 1 Axes>"
      ]
     },
     "metadata": {
      "needs_background": "light"
     },
     "output_type": "display_data"
    }
   ],
   "source": [
    "plt.bar(x = [\"red\",\"white\"], height=[typecount[\"red\"],typecount[\"white\"]], color = [\"red\",\"blue\"])"
   ]
  },
  {
   "cell_type": "code",
   "execution_count": 5,
   "id": "e50c09a4-1a7b-4d7e-830e-e7fe610127ba",
   "metadata": {},
   "outputs": [
    {
     "data": {
      "text/html": [
       "<div>\n",
       "<style scoped>\n",
       "    .dataframe tbody tr th:only-of-type {\n",
       "        vertical-align: middle;\n",
       "    }\n",
       "\n",
       "    .dataframe tbody tr th {\n",
       "        vertical-align: top;\n",
       "    }\n",
       "\n",
       "    .dataframe thead th {\n",
       "        text-align: right;\n",
       "    }\n",
       "</style>\n",
       "<table border=\"1\" class=\"dataframe\">\n",
       "  <thead>\n",
       "    <tr style=\"text-align: right;\">\n",
       "      <th></th>\n",
       "      <th>type</th>\n",
       "      <th>fixed acidity</th>\n",
       "      <th>volatile acidity</th>\n",
       "      <th>citric acid</th>\n",
       "      <th>residual sugar</th>\n",
       "      <th>chlorides</th>\n",
       "      <th>free sulfur dioxide</th>\n",
       "      <th>total sulfur dioxide</th>\n",
       "      <th>density</th>\n",
       "      <th>pH</th>\n",
       "      <th>sulphates</th>\n",
       "      <th>alcohol</th>\n",
       "      <th>quality</th>\n",
       "    </tr>\n",
       "  </thead>\n",
       "  <tbody>\n",
       "    <tr>\n",
       "      <th>4898</th>\n",
       "      <td>red</td>\n",
       "      <td>7.4</td>\n",
       "      <td>0.700</td>\n",
       "      <td>0.00</td>\n",
       "      <td>1.9</td>\n",
       "      <td>0.076</td>\n",
       "      <td>11.0</td>\n",
       "      <td>34.0</td>\n",
       "      <td>0.99780</td>\n",
       "      <td>3.51</td>\n",
       "      <td>0.56</td>\n",
       "      <td>9.4</td>\n",
       "      <td>5</td>\n",
       "    </tr>\n",
       "    <tr>\n",
       "      <th>4899</th>\n",
       "      <td>red</td>\n",
       "      <td>7.8</td>\n",
       "      <td>0.880</td>\n",
       "      <td>0.00</td>\n",
       "      <td>2.6</td>\n",
       "      <td>0.098</td>\n",
       "      <td>25.0</td>\n",
       "      <td>67.0</td>\n",
       "      <td>0.99680</td>\n",
       "      <td>3.20</td>\n",
       "      <td>0.68</td>\n",
       "      <td>9.8</td>\n",
       "      <td>5</td>\n",
       "    </tr>\n",
       "    <tr>\n",
       "      <th>4900</th>\n",
       "      <td>red</td>\n",
       "      <td>7.8</td>\n",
       "      <td>0.760</td>\n",
       "      <td>0.04</td>\n",
       "      <td>2.3</td>\n",
       "      <td>0.092</td>\n",
       "      <td>15.0</td>\n",
       "      <td>54.0</td>\n",
       "      <td>0.99700</td>\n",
       "      <td>3.26</td>\n",
       "      <td>0.65</td>\n",
       "      <td>9.8</td>\n",
       "      <td>5</td>\n",
       "    </tr>\n",
       "    <tr>\n",
       "      <th>4901</th>\n",
       "      <td>red</td>\n",
       "      <td>11.2</td>\n",
       "      <td>0.280</td>\n",
       "      <td>0.56</td>\n",
       "      <td>1.9</td>\n",
       "      <td>0.075</td>\n",
       "      <td>17.0</td>\n",
       "      <td>60.0</td>\n",
       "      <td>0.99800</td>\n",
       "      <td>3.16</td>\n",
       "      <td>0.58</td>\n",
       "      <td>9.8</td>\n",
       "      <td>6</td>\n",
       "    </tr>\n",
       "    <tr>\n",
       "      <th>4902</th>\n",
       "      <td>red</td>\n",
       "      <td>7.4</td>\n",
       "      <td>0.700</td>\n",
       "      <td>0.00</td>\n",
       "      <td>1.9</td>\n",
       "      <td>0.076</td>\n",
       "      <td>11.0</td>\n",
       "      <td>34.0</td>\n",
       "      <td>0.99780</td>\n",
       "      <td>3.51</td>\n",
       "      <td>0.56</td>\n",
       "      <td>9.4</td>\n",
       "      <td>5</td>\n",
       "    </tr>\n",
       "    <tr>\n",
       "      <th>...</th>\n",
       "      <td>...</td>\n",
       "      <td>...</td>\n",
       "      <td>...</td>\n",
       "      <td>...</td>\n",
       "      <td>...</td>\n",
       "      <td>...</td>\n",
       "      <td>...</td>\n",
       "      <td>...</td>\n",
       "      <td>...</td>\n",
       "      <td>...</td>\n",
       "      <td>...</td>\n",
       "      <td>...</td>\n",
       "      <td>...</td>\n",
       "    </tr>\n",
       "    <tr>\n",
       "      <th>6491</th>\n",
       "      <td>red</td>\n",
       "      <td>6.8</td>\n",
       "      <td>0.620</td>\n",
       "      <td>0.08</td>\n",
       "      <td>1.9</td>\n",
       "      <td>0.068</td>\n",
       "      <td>28.0</td>\n",
       "      <td>38.0</td>\n",
       "      <td>0.99651</td>\n",
       "      <td>3.42</td>\n",
       "      <td>0.82</td>\n",
       "      <td>9.5</td>\n",
       "      <td>6</td>\n",
       "    </tr>\n",
       "    <tr>\n",
       "      <th>6492</th>\n",
       "      <td>red</td>\n",
       "      <td>6.2</td>\n",
       "      <td>0.600</td>\n",
       "      <td>0.08</td>\n",
       "      <td>2.0</td>\n",
       "      <td>0.090</td>\n",
       "      <td>32.0</td>\n",
       "      <td>44.0</td>\n",
       "      <td>0.99490</td>\n",
       "      <td>3.45</td>\n",
       "      <td>0.58</td>\n",
       "      <td>10.5</td>\n",
       "      <td>5</td>\n",
       "    </tr>\n",
       "    <tr>\n",
       "      <th>6494</th>\n",
       "      <td>red</td>\n",
       "      <td>6.3</td>\n",
       "      <td>0.510</td>\n",
       "      <td>0.13</td>\n",
       "      <td>2.3</td>\n",
       "      <td>0.076</td>\n",
       "      <td>29.0</td>\n",
       "      <td>40.0</td>\n",
       "      <td>0.99574</td>\n",
       "      <td>3.42</td>\n",
       "      <td>0.75</td>\n",
       "      <td>11.0</td>\n",
       "      <td>6</td>\n",
       "    </tr>\n",
       "    <tr>\n",
       "      <th>6495</th>\n",
       "      <td>red</td>\n",
       "      <td>5.9</td>\n",
       "      <td>0.645</td>\n",
       "      <td>0.12</td>\n",
       "      <td>2.0</td>\n",
       "      <td>0.075</td>\n",
       "      <td>32.0</td>\n",
       "      <td>44.0</td>\n",
       "      <td>0.99547</td>\n",
       "      <td>3.57</td>\n",
       "      <td>0.71</td>\n",
       "      <td>10.2</td>\n",
       "      <td>5</td>\n",
       "    </tr>\n",
       "    <tr>\n",
       "      <th>6496</th>\n",
       "      <td>red</td>\n",
       "      <td>6.0</td>\n",
       "      <td>0.310</td>\n",
       "      <td>0.47</td>\n",
       "      <td>3.6</td>\n",
       "      <td>0.067</td>\n",
       "      <td>18.0</td>\n",
       "      <td>42.0</td>\n",
       "      <td>0.99549</td>\n",
       "      <td>3.39</td>\n",
       "      <td>0.66</td>\n",
       "      <td>11.0</td>\n",
       "      <td>6</td>\n",
       "    </tr>\n",
       "  </tbody>\n",
       "</table>\n",
       "<p>1593 rows × 13 columns</p>\n",
       "</div>"
      ],
      "text/plain": [
       "     type  fixed acidity  volatile acidity  citric acid  residual sugar  \\\n",
       "4898  red            7.4             0.700         0.00             1.9   \n",
       "4899  red            7.8             0.880         0.00             2.6   \n",
       "4900  red            7.8             0.760         0.04             2.3   \n",
       "4901  red           11.2             0.280         0.56             1.9   \n",
       "4902  red            7.4             0.700         0.00             1.9   \n",
       "...   ...            ...               ...          ...             ...   \n",
       "6491  red            6.8             0.620         0.08             1.9   \n",
       "6492  red            6.2             0.600         0.08             2.0   \n",
       "6494  red            6.3             0.510         0.13             2.3   \n",
       "6495  red            5.9             0.645         0.12             2.0   \n",
       "6496  red            6.0             0.310         0.47             3.6   \n",
       "\n",
       "      chlorides  free sulfur dioxide  total sulfur dioxide  density    pH  \\\n",
       "4898      0.076                 11.0                  34.0  0.99780  3.51   \n",
       "4899      0.098                 25.0                  67.0  0.99680  3.20   \n",
       "4900      0.092                 15.0                  54.0  0.99700  3.26   \n",
       "4901      0.075                 17.0                  60.0  0.99800  3.16   \n",
       "4902      0.076                 11.0                  34.0  0.99780  3.51   \n",
       "...         ...                  ...                   ...      ...   ...   \n",
       "6491      0.068                 28.0                  38.0  0.99651  3.42   \n",
       "6492      0.090                 32.0                  44.0  0.99490  3.45   \n",
       "6494      0.076                 29.0                  40.0  0.99574  3.42   \n",
       "6495      0.075                 32.0                  44.0  0.99547  3.57   \n",
       "6496      0.067                 18.0                  42.0  0.99549  3.39   \n",
       "\n",
       "      sulphates  alcohol  quality  \n",
       "4898       0.56      9.4        5  \n",
       "4899       0.68      9.8        5  \n",
       "4900       0.65      9.8        5  \n",
       "4901       0.58      9.8        6  \n",
       "4902       0.56      9.4        5  \n",
       "...         ...      ...      ...  \n",
       "6491       0.82      9.5        6  \n",
       "6492       0.58     10.5        5  \n",
       "6494       0.75     11.0        6  \n",
       "6495       0.71     10.2        5  \n",
       "6496       0.66     11.0        6  \n",
       "\n",
       "[1593 rows x 13 columns]"
      ]
     },
     "execution_count": 5,
     "metadata": {},
     "output_type": "execute_result"
    }
   ],
   "source": [
    "index = random.sample(list(range(0,4870,1)),1593)\n",
    "white = winedataset[winedataset.type == \"white\"].iloc[index]\n",
    "white\n",
    "red = winedataset[winedataset.type == \"red\"]\n",
    "red"
   ]
  },
  {
   "cell_type": "code",
   "execution_count": 6,
   "id": "1515495e-4147-4ac5-8e86-10f5a4906455",
   "metadata": {},
   "outputs": [
    {
     "data": {
      "text/html": [
       "<div>\n",
       "<style scoped>\n",
       "    .dataframe tbody tr th:only-of-type {\n",
       "        vertical-align: middle;\n",
       "    }\n",
       "\n",
       "    .dataframe tbody tr th {\n",
       "        vertical-align: top;\n",
       "    }\n",
       "\n",
       "    .dataframe thead th {\n",
       "        text-align: right;\n",
       "    }\n",
       "</style>\n",
       "<table border=\"1\" class=\"dataframe\">\n",
       "  <thead>\n",
       "    <tr style=\"text-align: right;\">\n",
       "      <th></th>\n",
       "      <th>type</th>\n",
       "      <th>fixed acidity</th>\n",
       "      <th>volatile acidity</th>\n",
       "      <th>citric acid</th>\n",
       "      <th>residual sugar</th>\n",
       "      <th>chlorides</th>\n",
       "      <th>free sulfur dioxide</th>\n",
       "      <th>total sulfur dioxide</th>\n",
       "      <th>density</th>\n",
       "      <th>pH</th>\n",
       "      <th>sulphates</th>\n",
       "      <th>alcohol</th>\n",
       "      <th>quality</th>\n",
       "    </tr>\n",
       "  </thead>\n",
       "  <tbody>\n",
       "    <tr>\n",
       "      <th>325</th>\n",
       "      <td>white</td>\n",
       "      <td>7.5</td>\n",
       "      <td>0.270</td>\n",
       "      <td>0.31</td>\n",
       "      <td>5.8</td>\n",
       "      <td>0.057</td>\n",
       "      <td>131.0</td>\n",
       "      <td>313.0</td>\n",
       "      <td>0.99460</td>\n",
       "      <td>3.18</td>\n",
       "      <td>0.59</td>\n",
       "      <td>10.5</td>\n",
       "      <td>5</td>\n",
       "    </tr>\n",
       "    <tr>\n",
       "      <th>2254</th>\n",
       "      <td>white</td>\n",
       "      <td>6.2</td>\n",
       "      <td>0.260</td>\n",
       "      <td>0.19</td>\n",
       "      <td>3.4</td>\n",
       "      <td>0.049</td>\n",
       "      <td>47.0</td>\n",
       "      <td>172.0</td>\n",
       "      <td>0.99240</td>\n",
       "      <td>3.14</td>\n",
       "      <td>0.43</td>\n",
       "      <td>10.4</td>\n",
       "      <td>6</td>\n",
       "    </tr>\n",
       "    <tr>\n",
       "      <th>255</th>\n",
       "      <td>white</td>\n",
       "      <td>6.7</td>\n",
       "      <td>0.260</td>\n",
       "      <td>0.39</td>\n",
       "      <td>1.1</td>\n",
       "      <td>0.040</td>\n",
       "      <td>45.0</td>\n",
       "      <td>147.0</td>\n",
       "      <td>0.99350</td>\n",
       "      <td>3.32</td>\n",
       "      <td>0.58</td>\n",
       "      <td>9.6</td>\n",
       "      <td>8</td>\n",
       "    </tr>\n",
       "    <tr>\n",
       "      <th>2612</th>\n",
       "      <td>white</td>\n",
       "      <td>6.7</td>\n",
       "      <td>0.300</td>\n",
       "      <td>0.29</td>\n",
       "      <td>2.8</td>\n",
       "      <td>0.025</td>\n",
       "      <td>37.0</td>\n",
       "      <td>107.0</td>\n",
       "      <td>0.99159</td>\n",
       "      <td>3.31</td>\n",
       "      <td>0.63</td>\n",
       "      <td>11.3</td>\n",
       "      <td>7</td>\n",
       "    </tr>\n",
       "    <tr>\n",
       "      <th>3134</th>\n",
       "      <td>white</td>\n",
       "      <td>6.5</td>\n",
       "      <td>0.160</td>\n",
       "      <td>0.33</td>\n",
       "      <td>4.8</td>\n",
       "      <td>0.043</td>\n",
       "      <td>45.0</td>\n",
       "      <td>114.0</td>\n",
       "      <td>0.99200</td>\n",
       "      <td>3.18</td>\n",
       "      <td>0.44</td>\n",
       "      <td>11.2</td>\n",
       "      <td>6</td>\n",
       "    </tr>\n",
       "    <tr>\n",
       "      <th>...</th>\n",
       "      <td>...</td>\n",
       "      <td>...</td>\n",
       "      <td>...</td>\n",
       "      <td>...</td>\n",
       "      <td>...</td>\n",
       "      <td>...</td>\n",
       "      <td>...</td>\n",
       "      <td>...</td>\n",
       "      <td>...</td>\n",
       "      <td>...</td>\n",
       "      <td>...</td>\n",
       "      <td>...</td>\n",
       "      <td>...</td>\n",
       "    </tr>\n",
       "    <tr>\n",
       "      <th>6491</th>\n",
       "      <td>red</td>\n",
       "      <td>6.8</td>\n",
       "      <td>0.620</td>\n",
       "      <td>0.08</td>\n",
       "      <td>1.9</td>\n",
       "      <td>0.068</td>\n",
       "      <td>28.0</td>\n",
       "      <td>38.0</td>\n",
       "      <td>0.99651</td>\n",
       "      <td>3.42</td>\n",
       "      <td>0.82</td>\n",
       "      <td>9.5</td>\n",
       "      <td>6</td>\n",
       "    </tr>\n",
       "    <tr>\n",
       "      <th>6492</th>\n",
       "      <td>red</td>\n",
       "      <td>6.2</td>\n",
       "      <td>0.600</td>\n",
       "      <td>0.08</td>\n",
       "      <td>2.0</td>\n",
       "      <td>0.090</td>\n",
       "      <td>32.0</td>\n",
       "      <td>44.0</td>\n",
       "      <td>0.99490</td>\n",
       "      <td>3.45</td>\n",
       "      <td>0.58</td>\n",
       "      <td>10.5</td>\n",
       "      <td>5</td>\n",
       "    </tr>\n",
       "    <tr>\n",
       "      <th>6494</th>\n",
       "      <td>red</td>\n",
       "      <td>6.3</td>\n",
       "      <td>0.510</td>\n",
       "      <td>0.13</td>\n",
       "      <td>2.3</td>\n",
       "      <td>0.076</td>\n",
       "      <td>29.0</td>\n",
       "      <td>40.0</td>\n",
       "      <td>0.99574</td>\n",
       "      <td>3.42</td>\n",
       "      <td>0.75</td>\n",
       "      <td>11.0</td>\n",
       "      <td>6</td>\n",
       "    </tr>\n",
       "    <tr>\n",
       "      <th>6495</th>\n",
       "      <td>red</td>\n",
       "      <td>5.9</td>\n",
       "      <td>0.645</td>\n",
       "      <td>0.12</td>\n",
       "      <td>2.0</td>\n",
       "      <td>0.075</td>\n",
       "      <td>32.0</td>\n",
       "      <td>44.0</td>\n",
       "      <td>0.99547</td>\n",
       "      <td>3.57</td>\n",
       "      <td>0.71</td>\n",
       "      <td>10.2</td>\n",
       "      <td>5</td>\n",
       "    </tr>\n",
       "    <tr>\n",
       "      <th>6496</th>\n",
       "      <td>red</td>\n",
       "      <td>6.0</td>\n",
       "      <td>0.310</td>\n",
       "      <td>0.47</td>\n",
       "      <td>3.6</td>\n",
       "      <td>0.067</td>\n",
       "      <td>18.0</td>\n",
       "      <td>42.0</td>\n",
       "      <td>0.99549</td>\n",
       "      <td>3.39</td>\n",
       "      <td>0.66</td>\n",
       "      <td>11.0</td>\n",
       "      <td>6</td>\n",
       "    </tr>\n",
       "  </tbody>\n",
       "</table>\n",
       "<p>3186 rows × 13 columns</p>\n",
       "</div>"
      ],
      "text/plain": [
       "       type  fixed acidity  volatile acidity  citric acid  residual sugar  \\\n",
       "325   white            7.5             0.270         0.31             5.8   \n",
       "2254  white            6.2             0.260         0.19             3.4   \n",
       "255   white            6.7             0.260         0.39             1.1   \n",
       "2612  white            6.7             0.300         0.29             2.8   \n",
       "3134  white            6.5             0.160         0.33             4.8   \n",
       "...     ...            ...               ...          ...             ...   \n",
       "6491    red            6.8             0.620         0.08             1.9   \n",
       "6492    red            6.2             0.600         0.08             2.0   \n",
       "6494    red            6.3             0.510         0.13             2.3   \n",
       "6495    red            5.9             0.645         0.12             2.0   \n",
       "6496    red            6.0             0.310         0.47             3.6   \n",
       "\n",
       "      chlorides  free sulfur dioxide  total sulfur dioxide  density    pH  \\\n",
       "325       0.057                131.0                 313.0  0.99460  3.18   \n",
       "2254      0.049                 47.0                 172.0  0.99240  3.14   \n",
       "255       0.040                 45.0                 147.0  0.99350  3.32   \n",
       "2612      0.025                 37.0                 107.0  0.99159  3.31   \n",
       "3134      0.043                 45.0                 114.0  0.99200  3.18   \n",
       "...         ...                  ...                   ...      ...   ...   \n",
       "6491      0.068                 28.0                  38.0  0.99651  3.42   \n",
       "6492      0.090                 32.0                  44.0  0.99490  3.45   \n",
       "6494      0.076                 29.0                  40.0  0.99574  3.42   \n",
       "6495      0.075                 32.0                  44.0  0.99547  3.57   \n",
       "6496      0.067                 18.0                  42.0  0.99549  3.39   \n",
       "\n",
       "      sulphates  alcohol  quality  \n",
       "325        0.59     10.5        5  \n",
       "2254       0.43     10.4        6  \n",
       "255        0.58      9.6        8  \n",
       "2612       0.63     11.3        7  \n",
       "3134       0.44     11.2        6  \n",
       "...         ...      ...      ...  \n",
       "6491       0.82      9.5        6  \n",
       "6492       0.58     10.5        5  \n",
       "6494       0.75     11.0        6  \n",
       "6495       0.71     10.2        5  \n",
       "6496       0.66     11.0        6  \n",
       "\n",
       "[3186 rows x 13 columns]"
      ]
     },
     "execution_count": 6,
     "metadata": {},
     "output_type": "execute_result"
    }
   ],
   "source": [
    "finaldata = pd.concat([white,red])\n",
    "finaldata"
   ]
  },
  {
   "cell_type": "code",
   "execution_count": 7,
   "id": "78b39c10-09a3-4a6a-b947-a77f37350caf",
   "metadata": {},
   "outputs": [
    {
     "data": {
      "text/plain": [
       "type                     object\n",
       "fixed acidity           float64\n",
       "volatile acidity        float64\n",
       "citric acid             float64\n",
       "residual sugar          float64\n",
       "chlorides               float64\n",
       "free sulfur dioxide     float64\n",
       "total sulfur dioxide    float64\n",
       "density                 float64\n",
       "pH                      float64\n",
       "sulphates               float64\n",
       "alcohol                 float64\n",
       "quality                   int64\n",
       "dtype: object"
      ]
     },
     "execution_count": 7,
     "metadata": {},
     "output_type": "execute_result"
    }
   ],
   "source": [
    "finaldata.dtypes"
   ]
  },
  {
   "cell_type": "markdown",
   "id": "a9ea1bf7-0e4c-4e18-bf61-5b828a9b204f",
   "metadata": {},
   "source": [
    "The above dataset is the final dataset that have all the information neeeded. "
   ]
  },
  {
   "cell_type": "markdown",
   "id": "7703f50a-291b-4f5b-a022-588b4629dd69",
   "metadata": {},
   "source": [
    "## First insight of the dataset"
   ]
  },
  {
   "cell_type": "markdown",
   "id": "63c9f0fb-135a-4e17-81f2-7e50b0ac0df3",
   "metadata": {},
   "source": [
    "In this section I will use plenty of plots to shows the trend relationship statistical feature of the dataset itself. "
   ]
  },
  {
   "cell_type": "code",
   "execution_count": 8,
   "id": "5818ef79-c5ec-43e0-aa71-1ba13c1f2c90",
   "metadata": {
    "scrolled": true,
    "tags": []
   },
   "outputs": [
    {
     "data": {
      "text/plain": [
       "['type',\n",
       " 'fixed acidity',\n",
       " 'volatile acidity',\n",
       " 'citric acid',\n",
       " 'residual sugar',\n",
       " 'chlorides',\n",
       " 'free sulfur dioxide',\n",
       " 'total sulfur dioxide',\n",
       " 'density',\n",
       " 'pH',\n",
       " 'sulphates',\n",
       " 'alcohol',\n",
       " 'quality']"
      ]
     },
     "execution_count": 8,
     "metadata": {},
     "output_type": "execute_result"
    }
   ],
   "source": [
    "list(finaldata.columns.values)"
   ]
  },
  {
   "cell_type": "code",
   "execution_count": 9,
   "id": "7f694364-e73b-48df-a4e1-151c80d501ff",
   "metadata": {},
   "outputs": [
    {
     "data": {
      "text/plain": [
       "<AxesSubplot:>"
      ]
     },
     "execution_count": 9,
     "metadata": {},
     "output_type": "execute_result"
    },
    {
     "data": {
      "image/png": "[encoded data removed]",
      "text/plain": [
       "<Figure size 432x288 with 1 Axes>"
      ]
     },
     "metadata": {
      "needs_background": "light"
     },
     "output_type": "display_data"
    }
   ],
   "source": [
    "finaldata[\"quality\"].value_counts().plot(kind='bar',color = ['yellow','black', 'red', 'green', 'blue', 'cyan', 'purple'])\n"
   ]
  },
  {
   "cell_type": "markdown",
   "id": "342c658b-6a90-4b40-9a85-288fd5c44d4f",
   "metadata": {},
   "source": [
    "according to the above plot we can find out that most of the wine quality has been graded as 6."
   ]
  },
  {
   "cell_type": "markdown",
   "id": "b03739a8-ee84-4963-975c-c3f487a18834",
   "metadata": {},
   "source": [
    "Then I will find the relationship between wine type and each other variables."
   ]
  },
  {
   "cell_type": "code",
   "execution_count": 10,
   "id": "35dc3db1-9858-47ae-b9c5-a1524e2eb5a0",
   "metadata": {},
   "outputs": [
    {
     "data": {
      "text/plain": [
       "<AxesSubplot:xlabel='type', ylabel='quality'>"
      ]
     },
     "execution_count": 10,
     "metadata": {},
     "output_type": "execute_result"
    },
    {
     "data": {
      "image/png": "[encoded data removed]",
      "text/plain": [
       "<Figure size 432x288 with 1 Axes>"
      ]
     },
     "metadata": {
      "needs_background": "light"
     },
     "output_type": "display_data"
    }
   ],
   "source": [
    "sns.boxplot(x = \"type\", y =\"quality\",data = finaldata)"
   ]
  },
  {
   "cell_type": "markdown",
   "id": "7568d9f4-1c19-4227-8e01-07e5a77ee97f",
   "metadata": {},
   "source": [
    "From this above plot we can find out that the distribution between these two types of wine and the quality is almost the same therefore we do not need to do any process to the variables of quality."
   ]
  },
  {
   "cell_type": "code",
   "execution_count": 11,
   "id": "2048b605-5a17-40c7-b811-3527c32ff60a",
   "metadata": {},
   "outputs": [
    {
     "data": {
      "text/plain": [
       "<AxesSubplot:xlabel='type', ylabel='fixed acidity'>"
      ]
     },
     "execution_count": 11,
     "metadata": {},
     "output_type": "execute_result"
    },
    {
     "data": {
      "image/png": "[encoded data removed]",
      "text/plain": [
       "<Figure size 432x288 with 1 Axes>"
      ]
     },
     "metadata": {
      "needs_background": "light"
     },
     "output_type": "display_data"
    }
   ],
   "source": [
    "sns.boxplot(x = \"type\", y ='fixed acidity',data = finaldata)"
   ]
  },
  {
   "cell_type": "code",
   "execution_count": 12,
   "id": "38211009-cfda-4211-9b47-7e5e4839560a",
   "metadata": {},
   "outputs": [
    {
     "data": {
      "text/plain": [
       "<AxesSubplot:xlabel='type', ylabel='volatile acidity'>"
      ]
     },
     "execution_count": 12,
     "metadata": {},
     "output_type": "execute_result"
    },
    {
     "data": {
      "image/png": "[encoded data removed]",
      "text/plain": [
       "<Figure size 432x288 with 1 Axes>"
      ]
     },
     "metadata": {
      "needs_background": "light"
     },
     "output_type": "display_data"
    }
   ],
   "source": [
    "sns.boxplot(x = \"type\", y ='volatile acidity',data = finaldata)"
   ]
  },
  {
   "cell_type": "code",
   "execution_count": 13,
   "id": "1df92b9c-8550-496b-900b-82f844545069",
   "metadata": {},
   "outputs": [
    {
     "data": {
      "text/plain": [
       "<AxesSubplot:xlabel='type', ylabel='citric acid'>"
      ]
     },
     "execution_count": 13,
     "metadata": {},
     "output_type": "execute_result"
    },
    {
     "data": {
      "image/png": "[encoded data removed]",
      "text/plain": [
       "<Figure size 432x288 with 1 Axes>"
      ]
     },
     "metadata": {
      "needs_background": "light"
     },
     "output_type": "display_data"
    }
   ],
   "source": [
    "sns.boxplot(x = \"type\", y ='citric acid',data = finaldata)"
   ]
  },
  {
   "cell_type": "code",
   "execution_count": 14,
   "id": "394c7454-dab9-466a-a98b-ebb61fbdd0a4",
   "metadata": {},
   "outputs": [
    {
     "data": {
      "text/plain": [
       "<AxesSubplot:xlabel='type', ylabel='residual sugar'>"
      ]
     },
     "execution_count": 14,
     "metadata": {},
     "output_type": "execute_result"
    },
    {
     "data": {
      "image/png": "[encoded data removed]",
      "text/plain": [
       "<Figure size 432x288 with 1 Axes>"
      ]
     },
     "metadata": {
      "needs_background": "light"
     },
     "output_type": "display_data"
    }
   ],
   "source": [
    "sns.boxplot(x = \"type\", y ='residual sugar',data = finaldata)"
   ]
  },
  {
   "cell_type": "code",
   "execution_count": 15,
   "id": "9734f408-203d-4827-b1aa-e7a7ea7f4cab",
   "metadata": {},
   "outputs": [
    {
     "data": {
      "text/plain": [
       "<AxesSubplot:xlabel='type', ylabel='chlorides'>"
      ]
     },
     "execution_count": 15,
     "metadata": {},
     "output_type": "execute_result"
    },
    {
     "data": {
      "image/png": "[encoded data removed]",
      "text/plain": [
       "<Figure size 432x288 with 1 Axes>"
      ]
     },
     "metadata": {
      "needs_background": "light"
     },
     "output_type": "display_data"
    }
   ],
   "source": [
    "sns.boxplot(x = \"type\", y ='chlorides',data = finaldata)"
   ]
  },
  {
   "cell_type": "code",
   "execution_count": 16,
   "id": "35a7242c-7e0d-4c63-958f-beccc20cc64d",
   "metadata": {},
   "outputs": [
    {
     "data": {
      "text/plain": [
       "<AxesSubplot:xlabel='type', ylabel='free sulfur dioxide'>"
      ]
     },
     "execution_count": 16,
     "metadata": {},
     "output_type": "execute_result"
    },
    {
     "data": {
      "image/png": "[encoded data removed]",
      "text/plain": [
       "<Figure size 432x288 with 1 Axes>"
      ]
     },
     "metadata": {
      "needs_background": "light"
     },
     "output_type": "display_data"
    }
   ],
   "source": [
    "sns.boxplot(x = \"type\", y ='free sulfur dioxide',data = finaldata)"
   ]
  },
  {
   "cell_type": "code",
   "execution_count": 17,
   "id": "9b738bc5-9abe-426a-887a-1444136c912a",
   "metadata": {},
   "outputs": [
    {
     "data": {
      "text/plain": [
       "<AxesSubplot:xlabel='type', ylabel='total sulfur dioxide'>"
      ]
     },
     "execution_count": 17,
     "metadata": {},
     "output_type": "execute_result"
    },
    {
     "data": {
      "image/png": "[encoded data removed]",
      "text/plain": [
       "<Figure size 432x288 with 1 Axes>"
      ]
     },
     "metadata": {
      "needs_background": "light"
     },
     "output_type": "display_data"
    }
   ],
   "source": [
    "sns.boxplot(x = \"type\", y ='total sulfur dioxide',data = finaldata)"
   ]
  },
  {
   "cell_type": "code",
   "execution_count": 18,
   "id": "16128b86-f62b-41d9-9a39-cf87904410e1",
   "metadata": {},
   "outputs": [
    {
     "data": {
      "text/plain": [
       "<AxesSubplot:xlabel='type', ylabel='density'>"
      ]
     },
     "execution_count": 18,
     "metadata": {},
     "output_type": "execute_result"
    },
    {
     "data": {
      "image/png": "[encoded data removed]",
      "text/plain": [
       "<Figure size 432x288 with 1 Axes>"
      ]
     },
     "metadata": {
      "needs_background": "light"
     },
     "output_type": "display_data"
    }
   ],
   "source": [
    "sns.boxplot(x = \"type\", y ='density',data = finaldata)"
   ]
  },
  {
   "cell_type": "code",
   "execution_count": 19,
   "id": "3f698f41-138c-41c9-a17b-b06dd124b61e",
   "metadata": {},
   "outputs": [
    {
     "data": {
      "text/plain": [
       "<AxesSubplot:xlabel='type', ylabel='pH'>"
      ]
     },
     "execution_count": 19,
     "metadata": {},
     "output_type": "execute_result"
    },
    {
     "data": {
      "image/png": "[encoded data removed]",
      "text/plain": [
       "<Figure size 432x288 with 1 Axes>"
      ]
     },
     "metadata": {
      "needs_background": "light"
     },
     "output_type": "display_data"
    }
   ],
   "source": [
    "sns.boxplot(x = \"type\", y ='pH',data = finaldata)"
   ]
  },
  {
   "cell_type": "code",
   "execution_count": 20,
   "id": "9539cde2-033e-4f4f-8cb4-a814a46e6bd3",
   "metadata": {
    "tags": []
   },
   "outputs": [
    {
     "data": {
      "text/plain": [
       "<AxesSubplot:xlabel='type', ylabel='sulphates'>"
      ]
     },
     "execution_count": 20,
     "metadata": {},
     "output_type": "execute_result"
    },
    {
     "data": {
      "image/png": "[encoded data removed]",
      "text/plain": [
       "<Figure size 432x288 with 1 Axes>"
      ]
     },
     "metadata": {
      "needs_background": "light"
     },
     "output_type": "display_data"
    }
   ],
   "source": [
    "sns.boxplot(x = \"type\", y ='sulphates',data = finaldata)"
   ]
  },
  {
   "cell_type": "code",
   "execution_count": 21,
   "id": "e40d7c30-72ec-4cbb-a24c-1e26a103d9ba",
   "metadata": {},
   "outputs": [
    {
     "data": {
      "text/plain": [
       "<AxesSubplot:xlabel='type', ylabel='alcohol'>"
      ]
     },
     "execution_count": 21,
     "metadata": {},
     "output_type": "execute_result"
    },
    {
     "data": {
      "image/png": "[encoded data removed]",
      "text/plain": [
       "<Figure size 432x288 with 1 Axes>"
      ]
     },
     "metadata": {
      "needs_background": "light"
     },
     "output_type": "display_data"
    }
   ],
   "source": [
    "sns.boxplot(x = \"type\", y ='alcohol',data = finaldata)"
   ]
  },
  {
   "cell_type": "markdown",
   "id": "08b057a0-0859-4695-bf9c-4b3dd5de1960",
   "metadata": {},
   "source": [
    "According to the above data we can find out that the quality, alcohol, citric acid do not have a huge differences between white and red wine, and  sulphates,pH,chlorides have small difference in between. Therefore I will start to use some variables which do not have much differences. "
   ]
  },
  {
   "cell_type": "markdown",
   "id": "edb6aab8-f927-488c-9bbf-0df02f0b1d6a",
   "metadata": {
    "tags": []
   },
   "source": [
    "## Data Spliting"
   ]
  },
  {
   "cell_type": "code",
   "execution_count": 22,
   "id": "7df83ce4-245b-4860-bbc6-f6b71e9b4062",
   "metadata": {},
   "outputs": [],
   "source": [
    "y = finaldata[\"type\"]\n",
    "trainx, testx,trainy,testy = model_selection.train_test_split(finaldata,y,test_size = 0.3)\n",
    "trainx = trainx.drop(columns = \"type\")\n",
    "testx = testx.drop(columns = \"type\")"
   ]
  },
  {
   "cell_type": "code",
   "execution_count": 23,
   "id": "101a4dbc-c7bb-4485-a9e0-957182db55ea",
   "metadata": {},
   "outputs": [
    {
     "data": {
      "text/html": [
       "<div>\n",
       "<style scoped>\n",
       "    .dataframe tbody tr th:only-of-type {\n",
       "        vertical-align: middle;\n",
       "    }\n",
       "\n",
       "    .dataframe tbody tr th {\n",
       "        vertical-align: top;\n",
       "    }\n",
       "\n",
       "    .dataframe thead th {\n",
       "        text-align: right;\n",
       "    }\n",
       "</style>\n",
       "<table border=\"1\" class=\"dataframe\">\n",
       "  <thead>\n",
       "    <tr style=\"text-align: right;\">\n",
       "      <th></th>\n",
       "      <th>fixed acidity</th>\n",
       "      <th>volatile acidity</th>\n",
       "      <th>citric acid</th>\n",
       "      <th>residual sugar</th>\n",
       "      <th>chlorides</th>\n",
       "      <th>free sulfur dioxide</th>\n",
       "      <th>total sulfur dioxide</th>\n",
       "      <th>density</th>\n",
       "      <th>pH</th>\n",
       "      <th>sulphates</th>\n",
       "      <th>alcohol</th>\n",
       "      <th>quality</th>\n",
       "    </tr>\n",
       "  </thead>\n",
       "  <tbody>\n",
       "    <tr>\n",
       "      <th>5063</th>\n",
       "      <td>7.8</td>\n",
       "      <td>0.630</td>\n",
       "      <td>0.48</td>\n",
       "      <td>1.7</td>\n",
       "      <td>0.100</td>\n",
       "      <td>14.0</td>\n",
       "      <td>96.0</td>\n",
       "      <td>0.99610</td>\n",
       "      <td>3.19</td>\n",
       "      <td>0.62</td>\n",
       "      <td>9.5</td>\n",
       "      <td>5</td>\n",
       "    </tr>\n",
       "    <tr>\n",
       "      <th>5807</th>\n",
       "      <td>7.3</td>\n",
       "      <td>0.305</td>\n",
       "      <td>0.39</td>\n",
       "      <td>1.2</td>\n",
       "      <td>0.059</td>\n",
       "      <td>7.0</td>\n",
       "      <td>11.0</td>\n",
       "      <td>0.99331</td>\n",
       "      <td>3.29</td>\n",
       "      <td>0.52</td>\n",
       "      <td>11.5</td>\n",
       "      <td>6</td>\n",
       "    </tr>\n",
       "    <tr>\n",
       "      <th>2503</th>\n",
       "      <td>8.6</td>\n",
       "      <td>0.340</td>\n",
       "      <td>0.36</td>\n",
       "      <td>1.4</td>\n",
       "      <td>0.045</td>\n",
       "      <td>11.0</td>\n",
       "      <td>119.0</td>\n",
       "      <td>0.99556</td>\n",
       "      <td>3.17</td>\n",
       "      <td>0.47</td>\n",
       "      <td>9.4</td>\n",
       "      <td>4</td>\n",
       "    </tr>\n",
       "    <tr>\n",
       "      <th>6008</th>\n",
       "      <td>8.3</td>\n",
       "      <td>0.530</td>\n",
       "      <td>0.00</td>\n",
       "      <td>1.4</td>\n",
       "      <td>0.070</td>\n",
       "      <td>6.0</td>\n",
       "      <td>14.0</td>\n",
       "      <td>0.99593</td>\n",
       "      <td>3.25</td>\n",
       "      <td>0.64</td>\n",
       "      <td>10.0</td>\n",
       "      <td>6</td>\n",
       "    </tr>\n",
       "    <tr>\n",
       "      <th>4227</th>\n",
       "      <td>5.2</td>\n",
       "      <td>0.200</td>\n",
       "      <td>0.27</td>\n",
       "      <td>3.2</td>\n",
       "      <td>0.047</td>\n",
       "      <td>16.0</td>\n",
       "      <td>93.0</td>\n",
       "      <td>0.99235</td>\n",
       "      <td>3.44</td>\n",
       "      <td>0.53</td>\n",
       "      <td>10.1</td>\n",
       "      <td>7</td>\n",
       "    </tr>\n",
       "    <tr>\n",
       "      <th>...</th>\n",
       "      <td>...</td>\n",
       "      <td>...</td>\n",
       "      <td>...</td>\n",
       "      <td>...</td>\n",
       "      <td>...</td>\n",
       "      <td>...</td>\n",
       "      <td>...</td>\n",
       "      <td>...</td>\n",
       "      <td>...</td>\n",
       "      <td>...</td>\n",
       "      <td>...</td>\n",
       "      <td>...</td>\n",
       "    </tr>\n",
       "    <tr>\n",
       "      <th>5200</th>\n",
       "      <td>8.3</td>\n",
       "      <td>0.705</td>\n",
       "      <td>0.12</td>\n",
       "      <td>2.6</td>\n",
       "      <td>0.092</td>\n",
       "      <td>12.0</td>\n",
       "      <td>28.0</td>\n",
       "      <td>0.99940</td>\n",
       "      <td>3.51</td>\n",
       "      <td>0.72</td>\n",
       "      <td>10.0</td>\n",
       "      <td>5</td>\n",
       "    </tr>\n",
       "    <tr>\n",
       "      <th>3455</th>\n",
       "      <td>7.3</td>\n",
       "      <td>0.230</td>\n",
       "      <td>0.24</td>\n",
       "      <td>0.9</td>\n",
       "      <td>0.031</td>\n",
       "      <td>29.0</td>\n",
       "      <td>86.0</td>\n",
       "      <td>0.98926</td>\n",
       "      <td>2.90</td>\n",
       "      <td>0.38</td>\n",
       "      <td>12.2</td>\n",
       "      <td>6</td>\n",
       "    </tr>\n",
       "    <tr>\n",
       "      <th>5283</th>\n",
       "      <td>7.4</td>\n",
       "      <td>0.630</td>\n",
       "      <td>0.07</td>\n",
       "      <td>2.4</td>\n",
       "      <td>0.090</td>\n",
       "      <td>11.0</td>\n",
       "      <td>37.0</td>\n",
       "      <td>0.99790</td>\n",
       "      <td>3.43</td>\n",
       "      <td>0.76</td>\n",
       "      <td>9.7</td>\n",
       "      <td>6</td>\n",
       "    </tr>\n",
       "    <tr>\n",
       "      <th>3921</th>\n",
       "      <td>7.3</td>\n",
       "      <td>0.360</td>\n",
       "      <td>0.34</td>\n",
       "      <td>14.8</td>\n",
       "      <td>0.057</td>\n",
       "      <td>46.0</td>\n",
       "      <td>173.0</td>\n",
       "      <td>0.99751</td>\n",
       "      <td>3.14</td>\n",
       "      <td>0.57</td>\n",
       "      <td>10.2</td>\n",
       "      <td>5</td>\n",
       "    </tr>\n",
       "    <tr>\n",
       "      <th>2957</th>\n",
       "      <td>6.4</td>\n",
       "      <td>0.120</td>\n",
       "      <td>0.30</td>\n",
       "      <td>1.1</td>\n",
       "      <td>0.031</td>\n",
       "      <td>37.0</td>\n",
       "      <td>94.0</td>\n",
       "      <td>0.98986</td>\n",
       "      <td>3.01</td>\n",
       "      <td>0.56</td>\n",
       "      <td>11.7</td>\n",
       "      <td>6</td>\n",
       "    </tr>\n",
       "  </tbody>\n",
       "</table>\n",
       "<p>2230 rows × 12 columns</p>\n",
       "</div>"
      ],
      "text/plain": [
       "      fixed acidity  volatile acidity  citric acid  residual sugar  chlorides  \\\n",
       "5063            7.8             0.630         0.48             1.7      0.100   \n",
       "5807            7.3             0.305         0.39             1.2      0.059   \n",
       "2503            8.6             0.340         0.36             1.4      0.045   \n",
       "6008            8.3             0.530         0.00             1.4      0.070   \n",
       "4227            5.2             0.200         0.27             3.2      0.047   \n",
       "...             ...               ...          ...             ...        ...   \n",
       "5200            8.3             0.705         0.12             2.6      0.092   \n",
       "3455            7.3             0.230         0.24             0.9      0.031   \n",
       "5283            7.4             0.630         0.07             2.4      0.090   \n",
       "3921            7.3             0.360         0.34            14.8      0.057   \n",
       "2957            6.4             0.120         0.30             1.1      0.031   \n",
       "\n",
       "      free sulfur dioxide  total sulfur dioxide  density    pH  sulphates  \\\n",
       "5063                 14.0                  96.0  0.99610  3.19       0.62   \n",
       "5807                  7.0                  11.0  0.99331  3.29       0.52   \n",
       "2503                 11.0                 119.0  0.99556  3.17       0.47   \n",
       "6008                  6.0                  14.0  0.99593  3.25       0.64   \n",
       "4227                 16.0                  93.0  0.99235  3.44       0.53   \n",
       "...                   ...                   ...      ...   ...        ...   \n",
       "5200                 12.0                  28.0  0.99940  3.51       0.72   \n",
       "3455                 29.0                  86.0  0.98926  2.90       0.38   \n",
       "5283                 11.0                  37.0  0.99790  3.43       0.76   \n",
       "3921                 46.0                 173.0  0.99751  3.14       0.57   \n",
       "2957                 37.0                  94.0  0.98986  3.01       0.56   \n",
       "\n",
       "      alcohol  quality  \n",
       "5063      9.5        5  \n",
       "5807     11.5        6  \n",
       "2503      9.4        4  \n",
       "6008     10.0        6  \n",
       "4227     10.1        7  \n",
       "...       ...      ...  \n",
       "5200     10.0        5  \n",
       "3455     12.2        6  \n",
       "5283      9.7        6  \n",
       "3921     10.2        5  \n",
       "2957     11.7        6  \n",
       "\n",
       "[2230 rows x 12 columns]"
      ]
     },
     "execution_count": 23,
     "metadata": {},
     "output_type": "execute_result"
    }
   ],
   "source": [
    "trainx"
   ]
  },
  {
   "cell_type": "markdown",
   "id": "3fda9255-1669-4bf2-8435-d2e2e13a3dac",
   "metadata": {},
   "source": [
    "Since the originally type of the type variables is a object type variables, However in order to use the Lasso Regression, Linear Regression, and Logistic Regression we need to make our prediction variables into dummy variables type as follows."
   ]
  },
  {
   "cell_type": "code",
   "execution_count": 24,
   "id": "04d55da2-22ab-4add-8be8-2b32d8d68078",
   "metadata": {},
   "outputs": [
    {
     "data": {
      "text/html": [
       "<div>\n",
       "<style scoped>\n",
       "    .dataframe tbody tr th:only-of-type {\n",
       "        vertical-align: middle;\n",
       "    }\n",
       "\n",
       "    .dataframe tbody tr th {\n",
       "        vertical-align: top;\n",
       "    }\n",
       "\n",
       "    .dataframe thead th {\n",
       "        text-align: right;\n",
       "    }\n",
       "</style>\n",
       "<table border=\"1\" class=\"dataframe\">\n",
       "  <thead>\n",
       "    <tr style=\"text-align: right;\">\n",
       "      <th></th>\n",
       "      <th>red</th>\n",
       "      <th>white</th>\n",
       "    </tr>\n",
       "  </thead>\n",
       "  <tbody>\n",
       "    <tr>\n",
       "      <th>5063</th>\n",
       "      <td>1</td>\n",
       "      <td>0</td>\n",
       "    </tr>\n",
       "    <tr>\n",
       "      <th>5807</th>\n",
       "      <td>1</td>\n",
       "      <td>0</td>\n",
       "    </tr>\n",
       "    <tr>\n",
       "      <th>2503</th>\n",
       "      <td>0</td>\n",
       "      <td>1</td>\n",
       "    </tr>\n",
       "    <tr>\n",
       "      <th>6008</th>\n",
       "      <td>1</td>\n",
       "      <td>0</td>\n",
       "    </tr>\n",
       "    <tr>\n",
       "      <th>4227</th>\n",
       "      <td>0</td>\n",
       "      <td>1</td>\n",
       "    </tr>\n",
       "    <tr>\n",
       "      <th>...</th>\n",
       "      <td>...</td>\n",
       "      <td>...</td>\n",
       "    </tr>\n",
       "    <tr>\n",
       "      <th>5200</th>\n",
       "      <td>1</td>\n",
       "      <td>0</td>\n",
       "    </tr>\n",
       "    <tr>\n",
       "      <th>3455</th>\n",
       "      <td>0</td>\n",
       "      <td>1</td>\n",
       "    </tr>\n",
       "    <tr>\n",
       "      <th>5283</th>\n",
       "      <td>1</td>\n",
       "      <td>0</td>\n",
       "    </tr>\n",
       "    <tr>\n",
       "      <th>3921</th>\n",
       "      <td>0</td>\n",
       "      <td>1</td>\n",
       "    </tr>\n",
       "    <tr>\n",
       "      <th>2957</th>\n",
       "      <td>0</td>\n",
       "      <td>1</td>\n",
       "    </tr>\n",
       "  </tbody>\n",
       "</table>\n",
       "<p>2230 rows × 2 columns</p>\n",
       "</div>"
      ],
      "text/plain": [
       "      red  white\n",
       "5063    1      0\n",
       "5807    1      0\n",
       "2503    0      1\n",
       "6008    1      0\n",
       "4227    0      1\n",
       "...   ...    ...\n",
       "5200    1      0\n",
       "3455    0      1\n",
       "5283    1      0\n",
       "3921    0      1\n",
       "2957    0      1\n",
       "\n",
       "[2230 rows x 2 columns]"
      ]
     },
     "execution_count": 24,
     "metadata": {},
     "output_type": "execute_result"
    }
   ],
   "source": [
    "trainy = pd.get_dummies(trainy)\n",
    "trainy"
   ]
  },
  {
   "cell_type": "code",
   "execution_count": 25,
   "id": "6ec9cc22-970b-45ef-b325-81c707bd763d",
   "metadata": {},
   "outputs": [],
   "source": [
    "trainy = trainy.drop(columns = \"red\")"
   ]
  },
  {
   "cell_type": "code",
   "execution_count": 26,
   "id": "2f42e652-b872-4299-94b9-c2bcf16e84a3",
   "metadata": {},
   "outputs": [
    {
     "data": {
      "text/html": [
       "<div>\n",
       "<style scoped>\n",
       "    .dataframe tbody tr th:only-of-type {\n",
       "        vertical-align: middle;\n",
       "    }\n",
       "\n",
       "    .dataframe tbody tr th {\n",
       "        vertical-align: top;\n",
       "    }\n",
       "\n",
       "    .dataframe thead th {\n",
       "        text-align: right;\n",
       "    }\n",
       "</style>\n",
       "<table border=\"1\" class=\"dataframe\">\n",
       "  <thead>\n",
       "    <tr style=\"text-align: right;\">\n",
       "      <th></th>\n",
       "      <th>white</th>\n",
       "    </tr>\n",
       "  </thead>\n",
       "  <tbody>\n",
       "    <tr>\n",
       "      <th>5063</th>\n",
       "      <td>0</td>\n",
       "    </tr>\n",
       "    <tr>\n",
       "      <th>5807</th>\n",
       "      <td>0</td>\n",
       "    </tr>\n",
       "    <tr>\n",
       "      <th>2503</th>\n",
       "      <td>1</td>\n",
       "    </tr>\n",
       "    <tr>\n",
       "      <th>6008</th>\n",
       "      <td>0</td>\n",
       "    </tr>\n",
       "    <tr>\n",
       "      <th>4227</th>\n",
       "      <td>1</td>\n",
       "    </tr>\n",
       "    <tr>\n",
       "      <th>...</th>\n",
       "      <td>...</td>\n",
       "    </tr>\n",
       "    <tr>\n",
       "      <th>5200</th>\n",
       "      <td>0</td>\n",
       "    </tr>\n",
       "    <tr>\n",
       "      <th>3455</th>\n",
       "      <td>1</td>\n",
       "    </tr>\n",
       "    <tr>\n",
       "      <th>5283</th>\n",
       "      <td>0</td>\n",
       "    </tr>\n",
       "    <tr>\n",
       "      <th>3921</th>\n",
       "      <td>1</td>\n",
       "    </tr>\n",
       "    <tr>\n",
       "      <th>2957</th>\n",
       "      <td>1</td>\n",
       "    </tr>\n",
       "  </tbody>\n",
       "</table>\n",
       "<p>2230 rows × 1 columns</p>\n",
       "</div>"
      ],
      "text/plain": [
       "      white\n",
       "5063      0\n",
       "5807      0\n",
       "2503      1\n",
       "6008      0\n",
       "4227      1\n",
       "...     ...\n",
       "5200      0\n",
       "3455      1\n",
       "5283      0\n",
       "3921      1\n",
       "2957      1\n",
       "\n",
       "[2230 rows x 1 columns]"
      ]
     },
     "execution_count": 26,
     "metadata": {},
     "output_type": "execute_result"
    }
   ],
   "source": [
    "trainy"
   ]
  },
  {
   "cell_type": "code",
   "execution_count": 27,
   "id": "1fe026d6-c0ea-4fdf-872e-1753f6e6ee01",
   "metadata": {},
   "outputs": [
    {
     "data": {
      "text/html": [
       "<div>\n",
       "<style scoped>\n",
       "    .dataframe tbody tr th:only-of-type {\n",
       "        vertical-align: middle;\n",
       "    }\n",
       "\n",
       "    .dataframe tbody tr th {\n",
       "        vertical-align: top;\n",
       "    }\n",
       "\n",
       "    .dataframe thead th {\n",
       "        text-align: right;\n",
       "    }\n",
       "</style>\n",
       "<table border=\"1\" class=\"dataframe\">\n",
       "  <thead>\n",
       "    <tr style=\"text-align: right;\">\n",
       "      <th></th>\n",
       "      <th>fixed acidity</th>\n",
       "      <th>volatile acidity</th>\n",
       "      <th>citric acid</th>\n",
       "      <th>residual sugar</th>\n",
       "      <th>chlorides</th>\n",
       "      <th>free sulfur dioxide</th>\n",
       "      <th>total sulfur dioxide</th>\n",
       "      <th>density</th>\n",
       "      <th>pH</th>\n",
       "      <th>sulphates</th>\n",
       "      <th>alcohol</th>\n",
       "      <th>quality</th>\n",
       "    </tr>\n",
       "  </thead>\n",
       "  <tbody>\n",
       "    <tr>\n",
       "      <th>2821</th>\n",
       "      <td>6.6</td>\n",
       "      <td>0.400</td>\n",
       "      <td>0.46</td>\n",
       "      <td>6.20</td>\n",
       "      <td>0.056</td>\n",
       "      <td>42.0</td>\n",
       "      <td>241.0</td>\n",
       "      <td>0.99680</td>\n",
       "      <td>3.50</td>\n",
       "      <td>0.60</td>\n",
       "      <td>9.9</td>\n",
       "      <td>5</td>\n",
       "    </tr>\n",
       "    <tr>\n",
       "      <th>6198</th>\n",
       "      <td>5.2</td>\n",
       "      <td>0.645</td>\n",
       "      <td>0.00</td>\n",
       "      <td>2.15</td>\n",
       "      <td>0.080</td>\n",
       "      <td>15.0</td>\n",
       "      <td>28.0</td>\n",
       "      <td>0.99444</td>\n",
       "      <td>3.78</td>\n",
       "      <td>0.61</td>\n",
       "      <td>12.5</td>\n",
       "      <td>6</td>\n",
       "    </tr>\n",
       "    <tr>\n",
       "      <th>2029</th>\n",
       "      <td>7.6</td>\n",
       "      <td>0.340</td>\n",
       "      <td>0.39</td>\n",
       "      <td>7.60</td>\n",
       "      <td>0.040</td>\n",
       "      <td>45.0</td>\n",
       "      <td>215.0</td>\n",
       "      <td>0.99650</td>\n",
       "      <td>3.11</td>\n",
       "      <td>0.53</td>\n",
       "      <td>9.2</td>\n",
       "      <td>6</td>\n",
       "    </tr>\n",
       "    <tr>\n",
       "      <th>5643</th>\n",
       "      <td>7.3</td>\n",
       "      <td>0.510</td>\n",
       "      <td>0.18</td>\n",
       "      <td>2.10</td>\n",
       "      <td>0.070</td>\n",
       "      <td>12.0</td>\n",
       "      <td>28.0</td>\n",
       "      <td>0.99768</td>\n",
       "      <td>3.52</td>\n",
       "      <td>0.73</td>\n",
       "      <td>9.5</td>\n",
       "      <td>6</td>\n",
       "    </tr>\n",
       "    <tr>\n",
       "      <th>4922</th>\n",
       "      <td>6.9</td>\n",
       "      <td>0.400</td>\n",
       "      <td>0.14</td>\n",
       "      <td>2.40</td>\n",
       "      <td>0.085</td>\n",
       "      <td>21.0</td>\n",
       "      <td>40.0</td>\n",
       "      <td>0.99680</td>\n",
       "      <td>3.43</td>\n",
       "      <td>0.63</td>\n",
       "      <td>9.7</td>\n",
       "      <td>6</td>\n",
       "    </tr>\n",
       "    <tr>\n",
       "      <th>...</th>\n",
       "      <td>...</td>\n",
       "      <td>...</td>\n",
       "      <td>...</td>\n",
       "      <td>...</td>\n",
       "      <td>...</td>\n",
       "      <td>...</td>\n",
       "      <td>...</td>\n",
       "      <td>...</td>\n",
       "      <td>...</td>\n",
       "      <td>...</td>\n",
       "      <td>...</td>\n",
       "      <td>...</td>\n",
       "    </tr>\n",
       "    <tr>\n",
       "      <th>5872</th>\n",
       "      <td>8.8</td>\n",
       "      <td>0.330</td>\n",
       "      <td>0.41</td>\n",
       "      <td>5.90</td>\n",
       "      <td>0.073</td>\n",
       "      <td>7.0</td>\n",
       "      <td>13.0</td>\n",
       "      <td>0.99658</td>\n",
       "      <td>3.30</td>\n",
       "      <td>0.62</td>\n",
       "      <td>12.1</td>\n",
       "      <td>7</td>\n",
       "    </tr>\n",
       "    <tr>\n",
       "      <th>636</th>\n",
       "      <td>6.2</td>\n",
       "      <td>0.170</td>\n",
       "      <td>0.28</td>\n",
       "      <td>4.70</td>\n",
       "      <td>0.037</td>\n",
       "      <td>39.0</td>\n",
       "      <td>133.0</td>\n",
       "      <td>0.99310</td>\n",
       "      <td>3.41</td>\n",
       "      <td>0.46</td>\n",
       "      <td>10.8</td>\n",
       "      <td>7</td>\n",
       "    </tr>\n",
       "    <tr>\n",
       "      <th>6340</th>\n",
       "      <td>6.9</td>\n",
       "      <td>0.630</td>\n",
       "      <td>0.02</td>\n",
       "      <td>1.90</td>\n",
       "      <td>0.078</td>\n",
       "      <td>18.0</td>\n",
       "      <td>30.0</td>\n",
       "      <td>0.99712</td>\n",
       "      <td>3.40</td>\n",
       "      <td>0.75</td>\n",
       "      <td>9.8</td>\n",
       "      <td>5</td>\n",
       "    </tr>\n",
       "    <tr>\n",
       "      <th>5636</th>\n",
       "      <td>9.0</td>\n",
       "      <td>0.460</td>\n",
       "      <td>0.23</td>\n",
       "      <td>2.80</td>\n",
       "      <td>0.092</td>\n",
       "      <td>28.0</td>\n",
       "      <td>104.0</td>\n",
       "      <td>0.99830</td>\n",
       "      <td>3.10</td>\n",
       "      <td>0.56</td>\n",
       "      <td>9.2</td>\n",
       "      <td>5</td>\n",
       "    </tr>\n",
       "    <tr>\n",
       "      <th>6014</th>\n",
       "      <td>7.0</td>\n",
       "      <td>0.690</td>\n",
       "      <td>0.07</td>\n",
       "      <td>2.50</td>\n",
       "      <td>0.091</td>\n",
       "      <td>15.0</td>\n",
       "      <td>21.0</td>\n",
       "      <td>0.99572</td>\n",
       "      <td>3.38</td>\n",
       "      <td>0.60</td>\n",
       "      <td>11.3</td>\n",
       "      <td>6</td>\n",
       "    </tr>\n",
       "  </tbody>\n",
       "</table>\n",
       "<p>956 rows × 12 columns</p>\n",
       "</div>"
      ],
      "text/plain": [
       "      fixed acidity  volatile acidity  citric acid  residual sugar  chlorides  \\\n",
       "2821            6.6             0.400         0.46            6.20      0.056   \n",
       "6198            5.2             0.645         0.00            2.15      0.080   \n",
       "2029            7.6             0.340         0.39            7.60      0.040   \n",
       "5643            7.3             0.510         0.18            2.10      0.070   \n",
       "4922            6.9             0.400         0.14            2.40      0.085   \n",
       "...             ...               ...          ...             ...        ...   \n",
       "5872            8.8             0.330         0.41            5.90      0.073   \n",
       "636             6.2             0.170         0.28            4.70      0.037   \n",
       "6340            6.9             0.630         0.02            1.90      0.078   \n",
       "5636            9.0             0.460         0.23            2.80      0.092   \n",
       "6014            7.0             0.690         0.07            2.50      0.091   \n",
       "\n",
       "      free sulfur dioxide  total sulfur dioxide  density    pH  sulphates  \\\n",
       "2821                 42.0                 241.0  0.99680  3.50       0.60   \n",
       "6198                 15.0                  28.0  0.99444  3.78       0.61   \n",
       "2029                 45.0                 215.0  0.99650  3.11       0.53   \n",
       "5643                 12.0                  28.0  0.99768  3.52       0.73   \n",
       "4922                 21.0                  40.0  0.99680  3.43       0.63   \n",
       "...                   ...                   ...      ...   ...        ...   \n",
       "5872                  7.0                  13.0  0.99658  3.30       0.62   \n",
       "636                  39.0                 133.0  0.99310  3.41       0.46   \n",
       "6340                 18.0                  30.0  0.99712  3.40       0.75   \n",
       "5636                 28.0                 104.0  0.99830  3.10       0.56   \n",
       "6014                 15.0                  21.0  0.99572  3.38       0.60   \n",
       "\n",
       "      alcohol  quality  \n",
       "2821      9.9        5  \n",
       "6198     12.5        6  \n",
       "2029      9.2        6  \n",
       "5643      9.5        6  \n",
       "4922      9.7        6  \n",
       "...       ...      ...  \n",
       "5872     12.1        7  \n",
       "636      10.8        7  \n",
       "6340      9.8        5  \n",
       "5636      9.2        5  \n",
       "6014     11.3        6  \n",
       "\n",
       "[956 rows x 12 columns]"
      ]
     },
     "execution_count": 27,
     "metadata": {},
     "output_type": "execute_result"
    }
   ],
   "source": [
    "testx"
   ]
  },
  {
   "cell_type": "code",
   "execution_count": 28,
   "id": "e9ec4c1e-983e-486d-bc08-e15fa2a753f5",
   "metadata": {},
   "outputs": [],
   "source": [
    "testy = pd.get_dummies(testy)"
   ]
  },
  {
   "cell_type": "code",
   "execution_count": 29,
   "id": "0160c5af-e851-4bcd-9452-1712711644f9",
   "metadata": {},
   "outputs": [],
   "source": [
    "testy = testy.drop(columns= \"red\")"
   ]
  },
  {
   "cell_type": "code",
   "execution_count": 30,
   "id": "0f7a494c-3f54-4228-bede-2c458ac8ad3b",
   "metadata": {},
   "outputs": [
    {
     "data": {
      "text/html": [
       "<div>\n",
       "<style scoped>\n",
       "    .dataframe tbody tr th:only-of-type {\n",
       "        vertical-align: middle;\n",
       "    }\n",
       "\n",
       "    .dataframe tbody tr th {\n",
       "        vertical-align: top;\n",
       "    }\n",
       "\n",
       "    .dataframe thead th {\n",
       "        text-align: right;\n",
       "    }\n",
       "</style>\n",
       "<table border=\"1\" class=\"dataframe\">\n",
       "  <thead>\n",
       "    <tr style=\"text-align: right;\">\n",
       "      <th></th>\n",
       "      <th>white</th>\n",
       "    </tr>\n",
       "  </thead>\n",
       "  <tbody>\n",
       "    <tr>\n",
       "      <th>2821</th>\n",
       "      <td>1</td>\n",
       "    </tr>\n",
       "    <tr>\n",
       "      <th>6198</th>\n",
       "      <td>0</td>\n",
       "    </tr>\n",
       "    <tr>\n",
       "      <th>2029</th>\n",
       "      <td>1</td>\n",
       "    </tr>\n",
       "    <tr>\n",
       "      <th>5643</th>\n",
       "      <td>0</td>\n",
       "    </tr>\n",
       "    <tr>\n",
       "      <th>4922</th>\n",
       "      <td>0</td>\n",
       "    </tr>\n",
       "    <tr>\n",
       "      <th>...</th>\n",
       "      <td>...</td>\n",
       "    </tr>\n",
       "    <tr>\n",
       "      <th>5872</th>\n",
       "      <td>0</td>\n",
       "    </tr>\n",
       "    <tr>\n",
       "      <th>636</th>\n",
       "      <td>1</td>\n",
       "    </tr>\n",
       "    <tr>\n",
       "      <th>6340</th>\n",
       "      <td>0</td>\n",
       "    </tr>\n",
       "    <tr>\n",
       "      <th>5636</th>\n",
       "      <td>0</td>\n",
       "    </tr>\n",
       "    <tr>\n",
       "      <th>6014</th>\n",
       "      <td>0</td>\n",
       "    </tr>\n",
       "  </tbody>\n",
       "</table>\n",
       "<p>956 rows × 1 columns</p>\n",
       "</div>"
      ],
      "text/plain": [
       "      white\n",
       "2821      1\n",
       "6198      0\n",
       "2029      1\n",
       "5643      0\n",
       "4922      0\n",
       "...     ...\n",
       "5872      0\n",
       "636       1\n",
       "6340      0\n",
       "5636      0\n",
       "6014      0\n",
       "\n",
       "[956 rows x 1 columns]"
      ]
     },
     "execution_count": 30,
     "metadata": {},
     "output_type": "execute_result"
    }
   ],
   "source": [
    "testy"
   ]
  },
  {
   "cell_type": "markdown",
   "id": "7da5b8e0-46c8-42a1-a6ab-852c4f69bd03",
   "metadata": {
    "tags": []
   },
   "source": [
    "# Initial Model"
   ]
  },
  {
   "cell_type": "code",
   "execution_count": 31,
   "id": "1c249fb0-cae1-4ecc-a65e-2af5b3b297ab",
   "metadata": {},
   "outputs": [
    {
     "data": {
      "text/html": [
       "<div>\n",
       "<style scoped>\n",
       "    .dataframe tbody tr th:only-of-type {\n",
       "        vertical-align: middle;\n",
       "    }\n",
       "\n",
       "    .dataframe tbody tr th {\n",
       "        vertical-align: top;\n",
       "    }\n",
       "\n",
       "    .dataframe thead th {\n",
       "        text-align: right;\n",
       "    }\n",
       "</style>\n",
       "<table border=\"1\" class=\"dataframe\">\n",
       "  <thead>\n",
       "    <tr style=\"text-align: right;\">\n",
       "      <th></th>\n",
       "      <th>fixed acidity</th>\n",
       "      <th>volatile acidity</th>\n",
       "      <th>citric acid</th>\n",
       "      <th>residual sugar</th>\n",
       "      <th>chlorides</th>\n",
       "      <th>free sulfur dioxide</th>\n",
       "      <th>total sulfur dioxide</th>\n",
       "      <th>density</th>\n",
       "      <th>pH</th>\n",
       "      <th>sulphates</th>\n",
       "      <th>alcohol</th>\n",
       "      <th>quality</th>\n",
       "    </tr>\n",
       "  </thead>\n",
       "  <tbody>\n",
       "    <tr>\n",
       "      <th>5063</th>\n",
       "      <td>7.8</td>\n",
       "      <td>0.630</td>\n",
       "      <td>0.48</td>\n",
       "      <td>1.7</td>\n",
       "      <td>0.100</td>\n",
       "      <td>14.0</td>\n",
       "      <td>96.0</td>\n",
       "      <td>0.99610</td>\n",
       "      <td>3.19</td>\n",
       "      <td>0.62</td>\n",
       "      <td>9.5</td>\n",
       "      <td>5</td>\n",
       "    </tr>\n",
       "    <tr>\n",
       "      <th>5807</th>\n",
       "      <td>7.3</td>\n",
       "      <td>0.305</td>\n",
       "      <td>0.39</td>\n",
       "      <td>1.2</td>\n",
       "      <td>0.059</td>\n",
       "      <td>7.0</td>\n",
       "      <td>11.0</td>\n",
       "      <td>0.99331</td>\n",
       "      <td>3.29</td>\n",
       "      <td>0.52</td>\n",
       "      <td>11.5</td>\n",
       "      <td>6</td>\n",
       "    </tr>\n",
       "    <tr>\n",
       "      <th>2503</th>\n",
       "      <td>8.6</td>\n",
       "      <td>0.340</td>\n",
       "      <td>0.36</td>\n",
       "      <td>1.4</td>\n",
       "      <td>0.045</td>\n",
       "      <td>11.0</td>\n",
       "      <td>119.0</td>\n",
       "      <td>0.99556</td>\n",
       "      <td>3.17</td>\n",
       "      <td>0.47</td>\n",
       "      <td>9.4</td>\n",
       "      <td>4</td>\n",
       "    </tr>\n",
       "    <tr>\n",
       "      <th>6008</th>\n",
       "      <td>8.3</td>\n",
       "      <td>0.530</td>\n",
       "      <td>0.00</td>\n",
       "      <td>1.4</td>\n",
       "      <td>0.070</td>\n",
       "      <td>6.0</td>\n",
       "      <td>14.0</td>\n",
       "      <td>0.99593</td>\n",
       "      <td>3.25</td>\n",
       "      <td>0.64</td>\n",
       "      <td>10.0</td>\n",
       "      <td>6</td>\n",
       "    </tr>\n",
       "    <tr>\n",
       "      <th>4227</th>\n",
       "      <td>5.2</td>\n",
       "      <td>0.200</td>\n",
       "      <td>0.27</td>\n",
       "      <td>3.2</td>\n",
       "      <td>0.047</td>\n",
       "      <td>16.0</td>\n",
       "      <td>93.0</td>\n",
       "      <td>0.99235</td>\n",
       "      <td>3.44</td>\n",
       "      <td>0.53</td>\n",
       "      <td>10.1</td>\n",
       "      <td>7</td>\n",
       "    </tr>\n",
       "    <tr>\n",
       "      <th>...</th>\n",
       "      <td>...</td>\n",
       "      <td>...</td>\n",
       "      <td>...</td>\n",
       "      <td>...</td>\n",
       "      <td>...</td>\n",
       "      <td>...</td>\n",
       "      <td>...</td>\n",
       "      <td>...</td>\n",
       "      <td>...</td>\n",
       "      <td>...</td>\n",
       "      <td>...</td>\n",
       "      <td>...</td>\n",
       "    </tr>\n",
       "    <tr>\n",
       "      <th>5200</th>\n",
       "      <td>8.3</td>\n",
       "      <td>0.705</td>\n",
       "      <td>0.12</td>\n",
       "      <td>2.6</td>\n",
       "      <td>0.092</td>\n",
       "      <td>12.0</td>\n",
       "      <td>28.0</td>\n",
       "      <td>0.99940</td>\n",
       "      <td>3.51</td>\n",
       "      <td>0.72</td>\n",
       "      <td>10.0</td>\n",
       "      <td>5</td>\n",
       "    </tr>\n",
       "    <tr>\n",
       "      <th>3455</th>\n",
       "      <td>7.3</td>\n",
       "      <td>0.230</td>\n",
       "      <td>0.24</td>\n",
       "      <td>0.9</td>\n",
       "      <td>0.031</td>\n",
       "      <td>29.0</td>\n",
       "      <td>86.0</td>\n",
       "      <td>0.98926</td>\n",
       "      <td>2.90</td>\n",
       "      <td>0.38</td>\n",
       "      <td>12.2</td>\n",
       "      <td>6</td>\n",
       "    </tr>\n",
       "    <tr>\n",
       "      <th>5283</th>\n",
       "      <td>7.4</td>\n",
       "      <td>0.630</td>\n",
       "      <td>0.07</td>\n",
       "      <td>2.4</td>\n",
       "      <td>0.090</td>\n",
       "      <td>11.0</td>\n",
       "      <td>37.0</td>\n",
       "      <td>0.99790</td>\n",
       "      <td>3.43</td>\n",
       "      <td>0.76</td>\n",
       "      <td>9.7</td>\n",
       "      <td>6</td>\n",
       "    </tr>\n",
       "    <tr>\n",
       "      <th>3921</th>\n",
       "      <td>7.3</td>\n",
       "      <td>0.360</td>\n",
       "      <td>0.34</td>\n",
       "      <td>14.8</td>\n",
       "      <td>0.057</td>\n",
       "      <td>46.0</td>\n",
       "      <td>173.0</td>\n",
       "      <td>0.99751</td>\n",
       "      <td>3.14</td>\n",
       "      <td>0.57</td>\n",
       "      <td>10.2</td>\n",
       "      <td>5</td>\n",
       "    </tr>\n",
       "    <tr>\n",
       "      <th>2957</th>\n",
       "      <td>6.4</td>\n",
       "      <td>0.120</td>\n",
       "      <td>0.30</td>\n",
       "      <td>1.1</td>\n",
       "      <td>0.031</td>\n",
       "      <td>37.0</td>\n",
       "      <td>94.0</td>\n",
       "      <td>0.98986</td>\n",
       "      <td>3.01</td>\n",
       "      <td>0.56</td>\n",
       "      <td>11.7</td>\n",
       "      <td>6</td>\n",
       "    </tr>\n",
       "  </tbody>\n",
       "</table>\n",
       "<p>2230 rows × 12 columns</p>\n",
       "</div>"
      ],
      "text/plain": [
       "      fixed acidity  volatile acidity  citric acid  residual sugar  chlorides  \\\n",
       "5063            7.8             0.630         0.48             1.7      0.100   \n",
       "5807            7.3             0.305         0.39             1.2      0.059   \n",
       "2503            8.6             0.340         0.36             1.4      0.045   \n",
       "6008            8.3             0.530         0.00             1.4      0.070   \n",
       "4227            5.2             0.200         0.27             3.2      0.047   \n",
       "...             ...               ...          ...             ...        ...   \n",
       "5200            8.3             0.705         0.12             2.6      0.092   \n",
       "3455            7.3             0.230         0.24             0.9      0.031   \n",
       "5283            7.4             0.630         0.07             2.4      0.090   \n",
       "3921            7.3             0.360         0.34            14.8      0.057   \n",
       "2957            6.4             0.120         0.30             1.1      0.031   \n",
       "\n",
       "      free sulfur dioxide  total sulfur dioxide  density    pH  sulphates  \\\n",
       "5063                 14.0                  96.0  0.99610  3.19       0.62   \n",
       "5807                  7.0                  11.0  0.99331  3.29       0.52   \n",
       "2503                 11.0                 119.0  0.99556  3.17       0.47   \n",
       "6008                  6.0                  14.0  0.99593  3.25       0.64   \n",
       "4227                 16.0                  93.0  0.99235  3.44       0.53   \n",
       "...                   ...                   ...      ...   ...        ...   \n",
       "5200                 12.0                  28.0  0.99940  3.51       0.72   \n",
       "3455                 29.0                  86.0  0.98926  2.90       0.38   \n",
       "5283                 11.0                  37.0  0.99790  3.43       0.76   \n",
       "3921                 46.0                 173.0  0.99751  3.14       0.57   \n",
       "2957                 37.0                  94.0  0.98986  3.01       0.56   \n",
       "\n",
       "      alcohol  quality  \n",
       "5063      9.5        5  \n",
       "5807     11.5        6  \n",
       "2503      9.4        4  \n",
       "6008     10.0        6  \n",
       "4227     10.1        7  \n",
       "...       ...      ...  \n",
       "5200     10.0        5  \n",
       "3455     12.2        6  \n",
       "5283      9.7        6  \n",
       "3921     10.2        5  \n",
       "2957     11.7        6  \n",
       "\n",
       "[2230 rows x 12 columns]"
      ]
     },
     "execution_count": 31,
     "metadata": {},
     "output_type": "execute_result"
    }
   ],
   "source": [
    "trainx"
   ]
  },
  {
   "cell_type": "markdown",
   "id": "31c01be2-9526-44f0-a550-76ca260a62ef",
   "metadata": {},
   "source": [
    "For the first model I will use the variables which do not have a huge difference between red adnn white wine, which are quality, alcohol, citric acid"
   ]
  },
  {
   "cell_type": "code",
   "execution_count": 32,
   "id": "d95cd84f-d7ee-48f7-8deb-4e190926b879",
   "metadata": {},
   "outputs": [
    {
     "data": {
      "text/html": [
       "<div>\n",
       "<style scoped>\n",
       "    .dataframe tbody tr th:only-of-type {\n",
       "        vertical-align: middle;\n",
       "    }\n",
       "\n",
       "    .dataframe tbody tr th {\n",
       "        vertical-align: top;\n",
       "    }\n",
       "\n",
       "    .dataframe thead th {\n",
       "        text-align: right;\n",
       "    }\n",
       "</style>\n",
       "<table border=\"1\" class=\"dataframe\">\n",
       "  <thead>\n",
       "    <tr style=\"text-align: right;\">\n",
       "      <th></th>\n",
       "      <th>quality</th>\n",
       "      <th>alcohol</th>\n",
       "      <th>citric acid</th>\n",
       "    </tr>\n",
       "  </thead>\n",
       "  <tbody>\n",
       "    <tr>\n",
       "      <th>5063</th>\n",
       "      <td>5</td>\n",
       "      <td>9.5</td>\n",
       "      <td>0.48</td>\n",
       "    </tr>\n",
       "    <tr>\n",
       "      <th>5807</th>\n",
       "      <td>6</td>\n",
       "      <td>11.5</td>\n",
       "      <td>0.39</td>\n",
       "    </tr>\n",
       "    <tr>\n",
       "      <th>2503</th>\n",
       "      <td>4</td>\n",
       "      <td>9.4</td>\n",
       "      <td>0.36</td>\n",
       "    </tr>\n",
       "    <tr>\n",
       "      <th>6008</th>\n",
       "      <td>6</td>\n",
       "      <td>10.0</td>\n",
       "      <td>0.00</td>\n",
       "    </tr>\n",
       "    <tr>\n",
       "      <th>4227</th>\n",
       "      <td>7</td>\n",
       "      <td>10.1</td>\n",
       "      <td>0.27</td>\n",
       "    </tr>\n",
       "    <tr>\n",
       "      <th>...</th>\n",
       "      <td>...</td>\n",
       "      <td>...</td>\n",
       "      <td>...</td>\n",
       "    </tr>\n",
       "    <tr>\n",
       "      <th>5200</th>\n",
       "      <td>5</td>\n",
       "      <td>10.0</td>\n",
       "      <td>0.12</td>\n",
       "    </tr>\n",
       "    <tr>\n",
       "      <th>3455</th>\n",
       "      <td>6</td>\n",
       "      <td>12.2</td>\n",
       "      <td>0.24</td>\n",
       "    </tr>\n",
       "    <tr>\n",
       "      <th>5283</th>\n",
       "      <td>6</td>\n",
       "      <td>9.7</td>\n",
       "      <td>0.07</td>\n",
       "    </tr>\n",
       "    <tr>\n",
       "      <th>3921</th>\n",
       "      <td>5</td>\n",
       "      <td>10.2</td>\n",
       "      <td>0.34</td>\n",
       "    </tr>\n",
       "    <tr>\n",
       "      <th>2957</th>\n",
       "      <td>6</td>\n",
       "      <td>11.7</td>\n",
       "      <td>0.30</td>\n",
       "    </tr>\n",
       "  </tbody>\n",
       "</table>\n",
       "<p>2230 rows × 3 columns</p>\n",
       "</div>"
      ],
      "text/plain": [
       "      quality  alcohol  citric acid\n",
       "5063        5      9.5         0.48\n",
       "5807        6     11.5         0.39\n",
       "2503        4      9.4         0.36\n",
       "6008        6     10.0         0.00\n",
       "4227        7     10.1         0.27\n",
       "...       ...      ...          ...\n",
       "5200        5     10.0         0.12\n",
       "3455        6     12.2         0.24\n",
       "5283        6      9.7         0.07\n",
       "3921        5     10.2         0.34\n",
       "2957        6     11.7         0.30\n",
       "\n",
       "[2230 rows x 3 columns]"
      ]
     },
     "execution_count": 32,
     "metadata": {},
     "output_type": "execute_result"
    }
   ],
   "source": [
    "train_new = trainx[[\"quality\", \"alcohol\", \"citric acid\"]]\n",
    "train_new"
   ]
  },
  {
   "cell_type": "code",
   "execution_count": 33,
   "id": "806a6c13-d78c-425a-9553-5bb988364132",
   "metadata": {},
   "outputs": [
    {
     "data": {
      "text/html": [
       "<div>\n",
       "<style scoped>\n",
       "    .dataframe tbody tr th:only-of-type {\n",
       "        vertical-align: middle;\n",
       "    }\n",
       "\n",
       "    .dataframe tbody tr th {\n",
       "        vertical-align: top;\n",
       "    }\n",
       "\n",
       "    .dataframe thead th {\n",
       "        text-align: right;\n",
       "    }\n",
       "</style>\n",
       "<table border=\"1\" class=\"dataframe\">\n",
       "  <thead>\n",
       "    <tr style=\"text-align: right;\">\n",
       "      <th></th>\n",
       "      <th>quality</th>\n",
       "      <th>alcohol</th>\n",
       "      <th>citric acid</th>\n",
       "    </tr>\n",
       "  </thead>\n",
       "  <tbody>\n",
       "    <tr>\n",
       "      <th>2821</th>\n",
       "      <td>5</td>\n",
       "      <td>9.9</td>\n",
       "      <td>0.46</td>\n",
       "    </tr>\n",
       "    <tr>\n",
       "      <th>6198</th>\n",
       "      <td>6</td>\n",
       "      <td>12.5</td>\n",
       "      <td>0.00</td>\n",
       "    </tr>\n",
       "    <tr>\n",
       "      <th>2029</th>\n",
       "      <td>6</td>\n",
       "      <td>9.2</td>\n",
       "      <td>0.39</td>\n",
       "    </tr>\n",
       "    <tr>\n",
       "      <th>5643</th>\n",
       "      <td>6</td>\n",
       "      <td>9.5</td>\n",
       "      <td>0.18</td>\n",
       "    </tr>\n",
       "    <tr>\n",
       "      <th>4922</th>\n",
       "      <td>6</td>\n",
       "      <td>9.7</td>\n",
       "      <td>0.14</td>\n",
       "    </tr>\n",
       "    <tr>\n",
       "      <th>...</th>\n",
       "      <td>...</td>\n",
       "      <td>...</td>\n",
       "      <td>...</td>\n",
       "    </tr>\n",
       "    <tr>\n",
       "      <th>5872</th>\n",
       "      <td>7</td>\n",
       "      <td>12.1</td>\n",
       "      <td>0.41</td>\n",
       "    </tr>\n",
       "    <tr>\n",
       "      <th>636</th>\n",
       "      <td>7</td>\n",
       "      <td>10.8</td>\n",
       "      <td>0.28</td>\n",
       "    </tr>\n",
       "    <tr>\n",
       "      <th>6340</th>\n",
       "      <td>5</td>\n",
       "      <td>9.8</td>\n",
       "      <td>0.02</td>\n",
       "    </tr>\n",
       "    <tr>\n",
       "      <th>5636</th>\n",
       "      <td>5</td>\n",
       "      <td>9.2</td>\n",
       "      <td>0.23</td>\n",
       "    </tr>\n",
       "    <tr>\n",
       "      <th>6014</th>\n",
       "      <td>6</td>\n",
       "      <td>11.3</td>\n",
       "      <td>0.07</td>\n",
       "    </tr>\n",
       "  </tbody>\n",
       "</table>\n",
       "<p>956 rows × 3 columns</p>\n",
       "</div>"
      ],
      "text/plain": [
       "      quality  alcohol  citric acid\n",
       "2821        5      9.9         0.46\n",
       "6198        6     12.5         0.00\n",
       "2029        6      9.2         0.39\n",
       "5643        6      9.5         0.18\n",
       "4922        6      9.7         0.14\n",
       "...       ...      ...          ...\n",
       "5872        7     12.1         0.41\n",
       "636         7     10.8         0.28\n",
       "6340        5      9.8         0.02\n",
       "5636        5      9.2         0.23\n",
       "6014        6     11.3         0.07\n",
       "\n",
       "[956 rows x 3 columns]"
      ]
     },
     "execution_count": 33,
     "metadata": {},
     "output_type": "execute_result"
    }
   ],
   "source": [
    "test_new = testx[[\"quality\", \"alcohol\", \"citric acid\"]]\n",
    "test_new"
   ]
  },
  {
   "cell_type": "code",
   "execution_count": 34,
   "id": "81900dd9-3dba-42b7-941a-d123cefa2c73",
   "metadata": {},
   "outputs": [
    {
     "data": {
      "text/plain": [
       "LinearRegression()"
      ]
     },
     "execution_count": 34,
     "metadata": {},
     "output_type": "execute_result"
    }
   ],
   "source": [
    "lgm = linear_model.LinearRegression()\n",
    "lgm.fit(train_new, trainy)"
   ]
  },
  {
   "cell_type": "code",
   "execution_count": 72,
   "id": "414b9b6d-e2e2-45b7-b554-3849484a8e95",
   "metadata": {},
   "outputs": [
    {
     "data": {
      "text/plain": [
       "array([[ 0.06515089, -0.00559671,  0.52762161]])"
      ]
     },
     "execution_count": 72,
     "metadata": {},
     "output_type": "execute_result"
    }
   ],
   "source": [
    "lgm.coef_"
   ]
  },
  {
   "cell_type": "code",
   "execution_count": 35,
   "id": "c183a1c6-a34e-4b5d-91ff-767267ac825f",
   "metadata": {},
   "outputs": [
    {
     "data": {
      "text/plain": [
       "0.04524540109620068"
      ]
     },
     "execution_count": 35,
     "metadata": {},
     "output_type": "execute_result"
    }
   ],
   "source": [
    "lgmtrain1 = lgm.score(train_new,trainy)\n",
    "lgmtrain1"
   ]
  },
  {
   "cell_type": "code",
   "execution_count": 36,
   "id": "18e1699c-b5a2-4339-86af-e6b91172aabc",
   "metadata": {},
   "outputs": [
    {
     "data": {
      "text/plain": [
       "0.0508338514842982"
      ]
     },
     "execution_count": 36,
     "metadata": {},
     "output_type": "execute_result"
    }
   ],
   "source": [
    "lgmtest1 = lgm.score(test_new,testy)\n",
    "lgmtest1"
   ]
  },
  {
   "cell_type": "code",
   "execution_count": 37,
   "id": "07bca7b4-3930-4d8c-b7c2-8bb495533339",
   "metadata": {},
   "outputs": [
    {
     "data": {
      "text/plain": [
       "0.23727492036541434"
      ]
     },
     "execution_count": 37,
     "metadata": {},
     "output_type": "execute_result"
    }
   ],
   "source": [
    "MSEtrainlgm = metrics.mean_squared_error(trainy, lgm.predict(train_new))\n",
    "MSEtestlgm = metrics.mean_squared_error(testy,lgm.predict(test_new))\n",
    "MSEtestlgm"
   ]
  },
  {
   "cell_type": "code",
   "execution_count": 38,
   "id": "f3cb8bd8-7934-4b32-b15f-ebbba52f3611",
   "metadata": {},
   "outputs": [
    {
     "data": {
      "text/plain": [
       "Lasso()"
      ]
     },
     "execution_count": 38,
     "metadata": {},
     "output_type": "execute_result"
    }
   ],
   "source": [
    "lasso = linear_model.Lasso()\n",
    "lasso.fit(train_new, trainy)"
   ]
  },
  {
   "cell_type": "code",
   "execution_count": 73,
   "id": "b126f85a-d29f-41ab-b566-7ca9198d484b",
   "metadata": {},
   "outputs": [
    {
     "data": {
      "text/plain": [
       "array([0., 0., 0.])"
      ]
     },
     "execution_count": 73,
     "metadata": {},
     "output_type": "execute_result"
    }
   ],
   "source": [
    "lasso.coef_"
   ]
  },
  {
   "cell_type": "code",
   "execution_count": 39,
   "id": "e805fff9-0201-47fa-a51f-686500d89c1b",
   "metadata": {},
   "outputs": [],
   "source": [
    "lassotrain1= lasso.score(train_new,trainy)"
   ]
  },
  {
   "cell_type": "code",
   "execution_count": 40,
   "id": "999facd8-48b0-4578-aec6-8eddef132223",
   "metadata": {},
   "outputs": [],
   "source": [
    "lassotest1 = lasso.score(test_new,testy)"
   ]
  },
  {
   "cell_type": "code",
   "execution_count": 41,
   "id": "dd2b62e6-6d46-4e5c-87e6-6aa5f8226593",
   "metadata": {},
   "outputs": [
    {
     "data": {
      "text/plain": [
       "0.25001822766423304"
      ]
     },
     "execution_count": 41,
     "metadata": {},
     "output_type": "execute_result"
    }
   ],
   "source": [
    "MSEtrainlasso = metrics.mean_squared_error(trainy, lasso.predict(train_new))\n",
    "MSEtestlasso = metrics.mean_squared_error(testy,lasso.predict(test_new))\n",
    "MSEtestlasso"
   ]
  },
  {
   "cell_type": "code",
   "execution_count": 42,
   "id": "7c01ad78-c4df-489a-b538-1439f71e703c",
   "metadata": {},
   "outputs": [
    {
     "name": "stderr",
     "output_type": "stream",
     "text": [
      "/Users/harryzhang/miniforge3/lib/python3.9/site-packages/sklearn/utils/validation.py:993: DataConversionWarning: A column-vector y was passed when a 1d array was expected. Please change the shape of y to (n_samples, ), for example using ravel().\n",
      "  y = column_or_1d(y, warn=True)\n"
     ]
    },
    {
     "data": {
      "text/plain": [
       "LogisticRegression(solver='sag')"
      ]
     },
     "execution_count": 42,
     "metadata": {},
     "output_type": "execute_result"
    }
   ],
   "source": [
    "logit = linear_model.LogisticRegression(solver=\"sag\")\n",
    "logit.fit(train_new, trainy)"
   ]
  },
  {
   "cell_type": "code",
   "execution_count": 74,
   "id": "9ff81d0d-be27-4ee1-8851-f46215d972c4",
   "metadata": {},
   "outputs": [
    {
     "data": {
      "text/plain": [
       "array([[ 0.27661144, -0.02631923,  2.03710677]])"
      ]
     },
     "execution_count": 74,
     "metadata": {},
     "output_type": "execute_result"
    }
   ],
   "source": [
    "logit.coef_"
   ]
  },
  {
   "cell_type": "code",
   "execution_count": 43,
   "id": "bb8c7f1e-b702-4fbd-a654-9c58fa027b2e",
   "metadata": {},
   "outputs": [],
   "source": [
    "logittrain1 =logit.score(train_new,trainy)"
   ]
  },
  {
   "cell_type": "code",
   "execution_count": 44,
   "id": "f6dd237c-7ea1-492a-8d5a-5255c387099e",
   "metadata": {},
   "outputs": [],
   "source": [
    "logittest1 = logit.score(test_new,testy)"
   ]
  },
  {
   "cell_type": "code",
   "execution_count": 45,
   "id": "7101d696-81f7-443a-a8e3-11dfa77e3d31",
   "metadata": {},
   "outputs": [
    {
     "data": {
      "text/plain": [
       "0.3807531380753138"
      ]
     },
     "execution_count": 45,
     "metadata": {},
     "output_type": "execute_result"
    }
   ],
   "source": [
    "MSEtrainlogit = metrics.mean_squared_error(trainy, logit.predict(train_new))\n",
    "MSEtestlogit = metrics.mean_squared_error(testy,logit.predict(test_new))\n",
    "MSEtestlogit"
   ]
  },
  {
   "cell_type": "code",
   "execution_count": 46,
   "id": "8dde5eb2-6fd4-40af-a691-3c2245c6d00d",
   "metadata": {},
   "outputs": [
    {
     "data": {
      "text/html": [
       "<div>\n",
       "<style scoped>\n",
       "    .dataframe tbody tr th:only-of-type {\n",
       "        vertical-align: middle;\n",
       "    }\n",
       "\n",
       "    .dataframe tbody tr th {\n",
       "        vertical-align: top;\n",
       "    }\n",
       "\n",
       "    .dataframe thead th {\n",
       "        text-align: right;\n",
       "    }\n",
       "</style>\n",
       "<table border=\"1\" class=\"dataframe\">\n",
       "  <thead>\n",
       "    <tr style=\"text-align: right;\">\n",
       "      <th></th>\n",
       "      <th>test</th>\n",
       "      <th>train</th>\n",
       "    </tr>\n",
       "  </thead>\n",
       "  <tbody>\n",
       "    <tr>\n",
       "      <th>Linear Reg</th>\n",
       "      <td>0.237275</td>\n",
       "      <td>0.238686</td>\n",
       "    </tr>\n",
       "    <tr>\n",
       "      <th>Logistic</th>\n",
       "      <td>0.380753</td>\n",
       "      <td>0.383408</td>\n",
       "    </tr>\n",
       "    <tr>\n",
       "      <th>Lasso</th>\n",
       "      <td>0.250018</td>\n",
       "      <td>0.249997</td>\n",
       "    </tr>\n",
       "  </tbody>\n",
       "</table>\n",
       "</div>"
      ],
      "text/plain": [
       "                test     train\n",
       "Linear Reg  0.237275  0.238686\n",
       "Logistic    0.380753  0.383408\n",
       "Lasso       0.250018  0.249997"
      ]
     },
     "execution_count": 46,
     "metadata": {},
     "output_type": "execute_result"
    }
   ],
   "source": [
    "data = {'test':[MSEtestlgm,MSEtestlogit,MSEtestlasso],'train':[MSEtrainlgm,MSEtrainlogit,MSEtrainlasso]}\n",
    "pd.DataFrame(data, index =['Linear Reg', 'Logistic', 'Lasso'])"
   ]
  },
  {
   "cell_type": "code",
   "execution_count": null,
   "id": "45d64f6b-691b-4832-8de2-fa695eb594df",
   "metadata": {},
   "outputs": [],
   "source": []
  },
  {
   "cell_type": "markdown",
   "id": "6e16ff5f-b06e-4d20-afdc-ca9334ebf062",
   "metadata": {},
   "source": [
    "As we can see from the above MSE, the mse number is really small which means that this is not a proper model , or these variables is not choosing properly. In order to make our model more accurate we need to involve more variables and delete any variables which is not proper. In order to find more feature for the variables I will draw more plot in order to show the features."
   ]
  },
  {
   "cell_type": "code",
   "execution_count": 47,
   "id": "b498b79c-3164-41c6-99cb-b2867468746b",
   "metadata": {},
   "outputs": [],
   "source": [
    "def best_fit_slope_and_intercept(xs,ys):\n",
    "    m = (((mean(xs)*mean(ys)) - mean(xs*ys)) /\n",
    "         ((mean(xs)*mean(xs)) - mean(xs*xs)))\n",
    "    \n",
    "    b = mean(ys) - m*mean(xs)\n",
    "\n",
    "    return m, b"
   ]
  },
  {
   "cell_type": "code",
   "execution_count": 48,
   "id": "fb2738e0-f47d-4f5f-bbf1-5d3c2db51948",
   "metadata": {},
   "outputs": [
    {
     "data": {
      "text/plain": [
       "[<matplotlib.lines.Line2D at 0x1588e53d0>]"
      ]
     },
     "execution_count": 48,
     "metadata": {},
     "output_type": "execute_result"
    },
    {
     "data": {
      "image/png": "[encoded data removed]",
      "text/plain": [
       "<Figure size 432x288 with 1 Axes>"
      ]
     },
     "metadata": {},
     "output_type": "display_data"
    }
   ],
   "source": [
    "style.use('ggplot')\n",
    "fig, ax = plt.subplots()\n",
    "ax.scatter(x = finaldata[\"total sulfur dioxide\"],y =[finaldata[\"free sulfur dioxide\"]-finaldata[\"free sulfur dioxide\"].mean()],c = \"red\",alpha = 0.3)\n",
    "ax.scatter(x = finaldata[\"total sulfur dioxide\"],y =[finaldata[\"sulphates\"]-finaldata[\"sulphates\"].mean()], c= \"blue\",alpha = 0.3)\n",
    "pop_a = mpatches.Patch(color='red', label='free sulfur dioxide',alpha = 0.3)\n",
    "pop_b = mpatches.Patch(color='blue', label='sulphates',alpha = 0.3)\n",
    "pop_c = mpatches.Patch(color='black', label='regression line for sulphate')\n",
    "pop_d = mpatches.Patch(color=\"orange\", label = \"regression line for the free sulfur dioxide\")\n",
    "plt.title(\"sctter plot between total sulfur dioxide and free sulfure dioxide , and sulphates\")\n",
    "ax.legend(handles=[pop_b,pop_a,pop_c,pop_d])\n",
    "m1,b1 = best_fit_slope_and_intercept(finaldata[\"total sulfur dioxide\"],finaldata[\"sulphates\"])\n",
    "best_fit_line = [(m1*x)+b1 for x in finaldata[\"total sulfur dioxide\"]]\n",
    "m2,b2 = best_fit_slope_and_intercept(finaldata[\"total sulfur dioxide\"],finaldata[\"free sulfur dioxide\"])\n",
    "best_fit_line2 = [(m2*x)+b2 for x in finaldata[\"total sulfur dioxide\"]]\n",
    "plt.plot(finaldata[\"total sulfur dioxide\"], best_fit_line, c = \"black\")\n",
    "plt.plot(finaldata[\"total sulfur dioxide\"],best_fit_line2,c = \"orange\")"
   ]
  },
  {
   "cell_type": "markdown",
   "id": "2c94da5a-3bcb-493b-b8ad-d58f67aa1f26",
   "metadata": {},
   "source": [
    "According to this scatter plot we can find out that there is not relationshiop between sulphate and total sulfur dioxide, however in order to prevent the potential scaling mistakes I will write an individual scatter plot between sulphates and total sulfur dioxide."
   ]
  },
  {
   "cell_type": "code",
   "execution_count": 49,
   "id": "bf906e41-0fff-41b8-8c50-811267cec2af",
   "metadata": {},
   "outputs": [
    {
     "data": {
      "text/plain": [
       "<matplotlib.collections.PathCollection at 0x15888f160>"
      ]
     },
     "execution_count": 49,
     "metadata": {},
     "output_type": "execute_result"
    },
    {
     "data": {
      "image/png": "[encoded data removed]",
      "text/plain": [
       "<Figure size 432x288 with 1 Axes>"
      ]
     },
     "metadata": {},
     "output_type": "display_data"
    }
   ],
   "source": [
    "plt.scatter(x = finaldata[\"total sulfur dioxide\"],y =[finaldata[\"sulphates\"]-finaldata[\"sulphates\"].mean()], c= \"blue\",alpha = 0.3)"
   ]
  },
  {
   "cell_type": "markdown",
   "id": "c6ec0229-af9d-48fe-84e8-310ecc8889be",
   "metadata": {},
   "source": [
    "According to the scatter plot we can make sure that the relation ship between sulphates and total sulfur dioxide are really small."
   ]
  },
  {
   "cell_type": "code",
   "execution_count": 50,
   "id": "5a92f01e-497d-4fb8-857d-033dafc63766",
   "metadata": {},
   "outputs": [
    {
     "data": {
      "text/plain": [
       "<matplotlib.legend.Legend at 0x158e52d60>"
      ]
     },
     "execution_count": 50,
     "metadata": {},
     "output_type": "execute_result"
    },
    {
     "data": {
      "image/png": "[encoded data removed]",
      "text/plain": [
       "<Figure size 432x288 with 1 Axes>"
      ]
     },
     "metadata": {},
     "output_type": "display_data"
    }
   ],
   "source": [
    "fig, ax = plt.subplots()\n",
    "ax.scatter(x = finaldata[\"pH\"],y =finaldata[\"fixed acidity\"],c = \"red\",alpha = 0.3)\n",
    "ax.scatter(x = finaldata[\"pH\"],y =finaldata[\"volatile acidity\"], c= \"blue\",alpha = 0.3)\n",
    "ax.scatter(x = finaldata[\"pH\"],y =finaldata[\"citric acid\"], c= \"green\",alpha = 0.3)\n",
    "pop_a = mpatches.Patch(color='red', label='fixed acidity',alpha = 0.3)\n",
    "pop_b = mpatches.Patch(color='blue', label='volatile acidity',alpha = 0.3)\n",
    "pop_c = mpatches.Patch(color='green', label='citric acid',alpha = 0.3)\n",
    "pop_d = mpatches.Patch(color=\"orange\", label=' regression line for fixed acidity',alpha = 0.3)\n",
    "pop_e = mpatches.Patch(color=\"black\", label='regression line for volatile acidity',alpha = 0.3)\n",
    "pop_f = mpatches.Patch(color=\"purple\", label='regression line for citric acid',alpha = 0.3)\n",
    "\n",
    "m1,b1 = best_fit_slope_and_intercept(finaldata[\"pH\"],finaldata[\"fixed acidity\"])\n",
    "best_fit_line = [(m1*x)+b1 for x in finaldata[\"pH\"]]\n",
    "m2,b2 = best_fit_slope_and_intercept(finaldata[\"pH\"],finaldata[\"volatile acidity\"])\n",
    "best_fit_line2 = [(m2*x)+b2 for x in finaldata[\"pH\"]]\n",
    "m3,b3 = best_fit_slope_and_intercept(finaldata[\"pH\"],finaldata[\"citric acid\"])\n",
    "best_fit_line3 = [(m3*x)+b3 for x in finaldata[\"pH\"]]\n",
    "plt.plot(finaldata[\"pH\"], best_fit_line, c = \"orange\")\n",
    "plt.plot(finaldata[\"pH\"],best_fit_line2,c = \"black\")\n",
    "plt.plot(finaldata[\"pH\"],best_fit_line3,c = \"purple\")\n",
    "\n",
    "\n",
    "plt.title(\"sctter plot between pH level and 3 acid concenration\")\n",
    "ax.legend(handles=[pop_a,pop_b,pop_c,pop_d,pop_e,pop_f])"
   ]
  },
  {
   "cell_type": "markdown",
   "id": "b3cb9bff-a5ec-4000-9629-a4f0abc3928d",
   "metadata": {},
   "source": [
    "This scatter plot shows that similar trend between pH and volatile acidity and ph with citric acid. As usual I will draw two individual scatter plot for this two relationship in order to prevent the potential scaling error. "
   ]
  },
  {
   "cell_type": "code",
   "execution_count": 51,
   "id": "029f40d3-9339-4fb2-ac69-00f53f7f9a36",
   "metadata": {},
   "outputs": [
    {
     "data": {
      "text/plain": [
       "<matplotlib.collections.PathCollection at 0x158ee1640>"
      ]
     },
     "execution_count": 51,
     "metadata": {},
     "output_type": "execute_result"
    },
    {
     "data": {
      "image/png": "[encoded data removed]",
      "text/plain": [
       "<Figure size 432x288 with 1 Axes>"
      ]
     },
     "metadata": {},
     "output_type": "display_data"
    }
   ],
   "source": [
    "plt.scatter(x = finaldata[\"pH\"],y =[finaldata[\"citric acid\"]-finaldata[\"citric acid\"].mean()], c= \"green\",alpha = 0.3)"
   ]
  },
  {
   "cell_type": "code",
   "execution_count": 52,
   "id": "acdeedb9-62c7-44c3-a040-281e4060b1b3",
   "metadata": {
    "tags": []
   },
   "outputs": [
    {
     "data": {
      "text/plain": [
       "<matplotlib.collections.PathCollection at 0x158f9ad30>"
      ]
     },
     "execution_count": 52,
     "metadata": {},
     "output_type": "execute_result"
    },
    {
     "data": {
      "image/png": "[encoded data removed]",
      "text/plain": [
       "<Figure size 432x288 with 1 Axes>"
      ]
     },
     "metadata": {},
     "output_type": "display_data"
    }
   ],
   "source": [
    "plt.scatter(x = finaldata[\"pH\"],y =[finaldata[\"volatile acidity\"]-finaldata[\"volatile acidity\"].mean()], c= \"blue\",alpha = 0.3)\n"
   ]
  },
  {
   "cell_type": "markdown",
   "id": "f6ca9fa5-d96b-48a2-8ffc-5b1561d771f0",
   "metadata": {},
   "source": [
    "According to the above two individual scatter plot we can find out that there are some relationship exists, between pH and volatile acidity and ph with citric acid, so when we modified the model I will further analysis we will take these relationships into the consideration. "
   ]
  },
  {
   "cell_type": "markdown",
   "id": "2cbd9810-18c1-406d-8de5-ba4219ccd61e",
   "metadata": {},
   "source": [
    "## Improved model"
   ]
  },
  {
   "cell_type": "markdown",
   "id": "e09f56ee-7dc1-4ad8-8e00-1778d7eb3c0b",
   "metadata": {},
   "source": [
    "As what we found previously we can find out that there is a relationship between acid and pH and sulphr dioxide and sulphate. Therefore I will use \"fixed acidity\",\"pH\",\"citric acid\",\"total sulfur dioxide\",\"sulphates\",\"volatile acidity\" as my new model variables. "
   ]
  },
  {
   "cell_type": "code",
   "execution_count": 53,
   "id": "6976e6f2-6c48-4d49-8dd3-80bae4219725",
   "metadata": {},
   "outputs": [],
   "source": [
    "trainx_final = trainx[[\"fixed acidity\",\"pH\",\"citric acid\",\"total sulfur dioxide\",\"sulphates\",\"volatile acidity\"]]\n",
    "testx_final = testx[[\"fixed acidity\",\"pH\",\"citric acid\",\"total sulfur dioxide\",\"sulphates\",\"volatile acidity\"]]"
   ]
  },
  {
   "cell_type": "code",
   "execution_count": 54,
   "id": "089d3b7f-d479-47cc-804b-523ebd2b11ba",
   "metadata": {},
   "outputs": [
    {
     "data": {
      "text/plain": [
       "LinearRegression()"
      ]
     },
     "execution_count": 54,
     "metadata": {},
     "output_type": "execute_result"
    }
   ],
   "source": [
    "lgm2 = linear_model.LinearRegression()\n",
    "lgm2.fit(trainx_final, trainy)"
   ]
  },
  {
   "cell_type": "code",
   "execution_count": 75,
   "id": "d00bef0c-4e04-479f-88d5-874763cd9563",
   "metadata": {},
   "outputs": [
    {
     "data": {
      "text/plain": [
       "array([[-0.08571599, -0.59066605,  0.07838624,  0.00338377, -0.54843387,\n",
       "        -0.7889797 ]])"
      ]
     },
     "execution_count": 75,
     "metadata": {},
     "output_type": "execute_result"
    }
   ],
   "source": [
    "lgm2.coef_"
   ]
  },
  {
   "cell_type": "code",
   "execution_count": 55,
   "id": "00226dbd-2751-4dd0-97cd-bcdc108a23cd",
   "metadata": {},
   "outputs": [
    {
     "data": {
      "text/plain": [
       "0.7986942593091797"
      ]
     },
     "execution_count": 55,
     "metadata": {},
     "output_type": "execute_result"
    }
   ],
   "source": [
    "lgmtrain2 = lgm2.score(trainx_final,trainy)\n",
    "lgmtrain2"
   ]
  },
  {
   "cell_type": "code",
   "execution_count": 56,
   "id": "94e69b2c-540e-430e-94c2-061cce96ceaa",
   "metadata": {},
   "outputs": [
    {
     "data": {
      "text/plain": [
       "0.819092399976605"
      ]
     },
     "execution_count": 56,
     "metadata": {},
     "output_type": "execute_result"
    }
   ],
   "source": [
    "lgmtest2= lgm2.score(testx_final,testy)\n",
    "lgmtest2"
   ]
  },
  {
   "cell_type": "code",
   "execution_count": 57,
   "id": "e4935bf1-3620-42fe-b84e-4050af8ff165",
   "metadata": {},
   "outputs": [
    {
     "data": {
      "text/plain": [
       "0.04522373291143473"
      ]
     },
     "execution_count": 57,
     "metadata": {},
     "output_type": "execute_result"
    }
   ],
   "source": [
    "MSEtrainlgmfinal = metrics.mean_squared_error(trainy, lgm2.predict(trainx_final))\n",
    "MSEtestlgmfinal = metrics.mean_squared_error(testy,lgm2.predict(testx_final))\n",
    "MSEtestlgmfinal"
   ]
  },
  {
   "cell_type": "code",
   "execution_count": 58,
   "id": "31302d15-db44-49cd-91e5-bc5e58869eb8",
   "metadata": {},
   "outputs": [
    {
     "data": {
      "text/plain": [
       "Lasso()"
      ]
     },
     "execution_count": 58,
     "metadata": {},
     "output_type": "execute_result"
    }
   ],
   "source": [
    "lasso2 = linear_model.Lasso()\n",
    "lasso2.fit(trainx_final, trainy)"
   ]
  },
  {
   "cell_type": "code",
   "execution_count": 76,
   "id": "d04b5177-bb4b-425f-b653-5fc3123ad8bc",
   "metadata": {},
   "outputs": [
    {
     "data": {
      "text/plain": [
       "array([-0.        , -0.        ,  0.        ,  0.00624132, -0.        ,\n",
       "       -0.        ])"
      ]
     },
     "execution_count": 76,
     "metadata": {},
     "output_type": "execute_result"
    }
   ],
   "source": [
    "lasso2.coef_"
   ]
  },
  {
   "cell_type": "code",
   "execution_count": 59,
   "id": "ea9975c9-9df9-4be9-91a2-edbbab8c3d71",
   "metadata": {},
   "outputs": [],
   "source": [
    "lassotest2= lasso2.score(testx_final,testy)"
   ]
  },
  {
   "cell_type": "code",
   "execution_count": 60,
   "id": "e4f435ed-c191-4390-b784-06247c2011c6",
   "metadata": {},
   "outputs": [],
   "source": [
    "lassotrain2 = lasso2.score(trainx_final,trainy)"
   ]
  },
  {
   "cell_type": "code",
   "execution_count": 61,
   "id": "2f44ada0-f946-4c43-ac8d-df516f832503",
   "metadata": {},
   "outputs": [
    {
     "data": {
      "text/plain": [
       "0.25001822766423304"
      ]
     },
     "execution_count": 61,
     "metadata": {},
     "output_type": "execute_result"
    }
   ],
   "source": [
    "MSEtrainlassofinal = metrics.mean_squared_error(trainy, lasso2.predict(trainx_final))\n",
    "MSEtestlassofinal = metrics.mean_squared_error(testy,lasso2.predict(testx_final))\n",
    "MSEtestlasso"
   ]
  },
  {
   "cell_type": "markdown",
   "id": "27a7195f-4a47-491a-a56c-b0487fad265a",
   "metadata": {},
   "source": [
    "Since our model is an unscaled model therefore the solver \"sag\" in the Logistic Regression is not properate According to the API documentation of the sklearn we can know that the solver \"newton-cg\" is the solver that fit this situation therefore in this new model I will use the new solver to fit the model. "
   ]
  },
  {
   "cell_type": "code",
   "execution_count": 62,
   "id": "b15cab3f-eb44-42b6-8cb2-9f1e10a82633",
   "metadata": {},
   "outputs": [
    {
     "name": "stderr",
     "output_type": "stream",
     "text": [
      "/Users/harryzhang/miniforge3/lib/python3.9/site-packages/sklearn/utils/validation.py:993: DataConversionWarning: A column-vector y was passed when a 1d array was expected. Please change the shape of y to (n_samples, ), for example using ravel().\n",
      "  y = column_or_1d(y, warn=True)\n"
     ]
    },
    {
     "data": {
      "text/plain": [
       "LogisticRegression(solver='newton-cg')"
      ]
     },
     "execution_count": 62,
     "metadata": {},
     "output_type": "execute_result"
    }
   ],
   "source": [
    "logit2 = linear_model.LogisticRegression(solver=\"newton-cg\")\n",
    "logit2.fit(trainx_final, trainy)"
   ]
  },
  {
   "cell_type": "code",
   "execution_count": 77,
   "id": "8f64b533-eb66-488c-98cb-f04d7750c97b",
   "metadata": {},
   "outputs": [
    {
     "data": {
      "text/plain": [
       "array([[-1.15737386, -5.14214739,  1.58570618,  0.04175127, -4.35947013,\n",
       "        -6.85784651]])"
      ]
     },
     "execution_count": 77,
     "metadata": {},
     "output_type": "execute_result"
    }
   ],
   "source": [
    "logit2.coef_"
   ]
  },
  {
   "cell_type": "code",
   "execution_count": 63,
   "id": "316569b0-6cc8-4714-a30d-228709a95d1a",
   "metadata": {},
   "outputs": [
    {
     "data": {
      "text/plain": [
       "0.9739910313901345"
      ]
     },
     "execution_count": 63,
     "metadata": {},
     "output_type": "execute_result"
    }
   ],
   "source": [
    "logittrain2 = logit2.score(trainx_final,trainy)\n",
    "logittrain2"
   ]
  },
  {
   "cell_type": "code",
   "execution_count": 64,
   "id": "dcf9544f-27ad-48bd-9d1b-2aac99f40e3f",
   "metadata": {},
   "outputs": [
    {
     "data": {
      "text/plain": [
       "0.9822175732217573"
      ]
     },
     "execution_count": 64,
     "metadata": {},
     "output_type": "execute_result"
    }
   ],
   "source": [
    "logittest2 = logit2.score(testx_final,testy)\n",
    "logittest2"
   ]
  },
  {
   "cell_type": "code",
   "execution_count": 65,
   "id": "e485e491-eb06-4dc4-ba91-5a04f191a1d0",
   "metadata": {},
   "outputs": [
    {
     "data": {
      "text/plain": [
       "0.01778242677824268"
      ]
     },
     "execution_count": 65,
     "metadata": {},
     "output_type": "execute_result"
    }
   ],
   "source": [
    "MSEtrainlogitfinalfinal = metrics.mean_squared_error(trainy, logit2.predict(trainx_final))\n",
    "MSEtestlogitfinalfinal = metrics.mean_squared_error(testy,logit2.predict(testx_final))\n",
    "MSEtestlogitfinalfinal"
   ]
  },
  {
   "cell_type": "code",
   "execution_count": 66,
   "id": "199fca0e-9363-47eb-8876-5138f730d0e0",
   "metadata": {},
   "outputs": [],
   "source": [
    "data = {'test':[MSEtestlgm,MSEtestlogit,MSEtestlasso],'train':[MSEtrainlgm,MSEtrainlogit,MSEtrainlasso]}\n",
    "old = pd.DataFrame(data, index =['Linear Reg', 'Logistic', 'Lasso'])\n",
    "data_final = {'test':[MSEtestlgmfinal,MSEtestlogitfinalfinal,MSEtestlassofinal],'train':[MSEtrainlgmfinal,MSEtrainlogitfinalfinal,MSEtrainlassofinal]}\n",
    "new = pd.DataFrame(data_final, index =['Linear Reg', 'Logistic', 'Lasso'])\n"
   ]
  },
  {
   "cell_type": "code",
   "execution_count": 67,
   "id": "fc8d4bfc-a128-4df7-838e-ffdd142ad7e1",
   "metadata": {},
   "outputs": [
    {
     "data": {
      "text/html": [
       "<div>\n",
       "<style scoped>\n",
       "    .dataframe tbody tr th:only-of-type {\n",
       "        vertical-align: middle;\n",
       "    }\n",
       "\n",
       "    .dataframe tbody tr th {\n",
       "        vertical-align: top;\n",
       "    }\n",
       "\n",
       "    .dataframe thead th {\n",
       "        text-align: right;\n",
       "    }\n",
       "</style>\n",
       "<table border=\"1\" class=\"dataframe\">\n",
       "  <thead>\n",
       "    <tr style=\"text-align: right;\">\n",
       "      <th></th>\n",
       "      <th>test</th>\n",
       "      <th>train</th>\n",
       "    </tr>\n",
       "  </thead>\n",
       "  <tbody>\n",
       "    <tr>\n",
       "      <th>Linear Reg</th>\n",
       "      <td>0.237275</td>\n",
       "      <td>0.238686</td>\n",
       "    </tr>\n",
       "    <tr>\n",
       "      <th>Logistic</th>\n",
       "      <td>0.380753</td>\n",
       "      <td>0.383408</td>\n",
       "    </tr>\n",
       "    <tr>\n",
       "      <th>Lasso</th>\n",
       "      <td>0.250018</td>\n",
       "      <td>0.249997</td>\n",
       "    </tr>\n",
       "  </tbody>\n",
       "</table>\n",
       "</div>"
      ],
      "text/plain": [
       "                test     train\n",
       "Linear Reg  0.237275  0.238686\n",
       "Logistic    0.380753  0.383408\n",
       "Lasso       0.250018  0.249997"
      ]
     },
     "execution_count": 67,
     "metadata": {},
     "output_type": "execute_result"
    }
   ],
   "source": [
    "old "
   ]
  },
  {
   "cell_type": "code",
   "execution_count": 68,
   "id": "2b23896b-a57d-440c-a95a-ebc91c6216bd",
   "metadata": {},
   "outputs": [
    {
     "data": {
      "text/html": [
       "<div>\n",
       "<style scoped>\n",
       "    .dataframe tbody tr th:only-of-type {\n",
       "        vertical-align: middle;\n",
       "    }\n",
       "\n",
       "    .dataframe tbody tr th {\n",
       "        vertical-align: top;\n",
       "    }\n",
       "\n",
       "    .dataframe thead th {\n",
       "        text-align: right;\n",
       "    }\n",
       "</style>\n",
       "<table border=\"1\" class=\"dataframe\">\n",
       "  <thead>\n",
       "    <tr style=\"text-align: right;\">\n",
       "      <th></th>\n",
       "      <th>test</th>\n",
       "      <th>train</th>\n",
       "    </tr>\n",
       "  </thead>\n",
       "  <tbody>\n",
       "    <tr>\n",
       "      <th>Linear Reg</th>\n",
       "      <td>0.045224</td>\n",
       "      <td>0.050326</td>\n",
       "    </tr>\n",
       "    <tr>\n",
       "      <th>Logistic</th>\n",
       "      <td>0.017782</td>\n",
       "      <td>0.026009</td>\n",
       "    </tr>\n",
       "    <tr>\n",
       "      <th>Lasso</th>\n",
       "      <td>0.094940</td>\n",
       "      <td>0.103507</td>\n",
       "    </tr>\n",
       "  </tbody>\n",
       "</table>\n",
       "</div>"
      ],
      "text/plain": [
       "                test     train\n",
       "Linear Reg  0.045224  0.050326\n",
       "Logistic    0.017782  0.026009\n",
       "Lasso       0.094940  0.103507"
      ]
     },
     "execution_count": 68,
     "metadata": {},
     "output_type": "execute_result"
    }
   ],
   "source": [
    "new"
   ]
  },
  {
   "cell_type": "code",
   "execution_count": 69,
   "id": "8b85ab76-0b2f-4fde-b718-74d5071c1d35",
   "metadata": {},
   "outputs": [
    {
     "data": {
      "text/html": [
       "<div>\n",
       "<style scoped>\n",
       "    .dataframe tbody tr th:only-of-type {\n",
       "        vertical-align: middle;\n",
       "    }\n",
       "\n",
       "    .dataframe tbody tr th {\n",
       "        vertical-align: top;\n",
       "    }\n",
       "\n",
       "    .dataframe thead th {\n",
       "        text-align: right;\n",
       "    }\n",
       "</style>\n",
       "<table border=\"1\" class=\"dataframe\">\n",
       "  <thead>\n",
       "    <tr style=\"text-align: right;\">\n",
       "      <th></th>\n",
       "      <th>test</th>\n",
       "      <th>train</th>\n",
       "    </tr>\n",
       "  </thead>\n",
       "  <tbody>\n",
       "    <tr>\n",
       "      <th>Linear Reg old</th>\n",
       "      <td>0.050834</td>\n",
       "      <td>0.045245</td>\n",
       "    </tr>\n",
       "    <tr>\n",
       "      <th>Linear Reg new</th>\n",
       "      <td>0.819092</td>\n",
       "      <td>0.798694</td>\n",
       "    </tr>\n",
       "    <tr>\n",
       "      <th>Lasso old</th>\n",
       "      <td>-0.000143</td>\n",
       "      <td>0.000000</td>\n",
       "    </tr>\n",
       "    <tr>\n",
       "      <th>Lasso new</th>\n",
       "      <td>0.620214</td>\n",
       "      <td>0.585965</td>\n",
       "    </tr>\n",
       "    <tr>\n",
       "      <th>Logistic old</th>\n",
       "      <td>0.619247</td>\n",
       "      <td>0.616592</td>\n",
       "    </tr>\n",
       "    <tr>\n",
       "      <th>Logistic new</th>\n",
       "      <td>0.982218</td>\n",
       "      <td>0.973991</td>\n",
       "    </tr>\n",
       "  </tbody>\n",
       "</table>\n",
       "</div>"
      ],
      "text/plain": [
       "                    test     train\n",
       "Linear Reg old  0.050834  0.045245\n",
       "Linear Reg new  0.819092  0.798694\n",
       "Lasso old      -0.000143  0.000000\n",
       "Lasso new       0.620214  0.585965\n",
       "Logistic old    0.619247  0.616592\n",
       "Logistic new    0.982218  0.973991"
      ]
     },
     "execution_count": 69,
     "metadata": {},
     "output_type": "execute_result"
    }
   ],
   "source": [
    "data_compare = {'test':[lgmtest1,lgmtest2,lassotest1,lassotest2,logittest1,logittest2],'train':[lgmtrain1,lgmtrain2,lassotrain1,lassotrain2,logittrain1,logittrain2]}\n",
    "compare = pd.DataFrame(data_compare, index =['Linear Reg old','Linear Reg new','Lasso old','Lasso new','Logistic old','Logistic new'])\n",
    "compare"
   ]
  },
  {
   "cell_type": "markdown",
   "id": "5ae4c77a-dd50-4495-bdb2-6d16695d8780",
   "metadata": {},
   "source": [
    "By comparing the old model with the new model we can get that the overall accuracy is increasing and we can find out that the final accuracy is aroung 97% for logistic model which means this model is relatively good for the prediction. In Addition by comparing the MSE value for both new model and the old model we can find out that the new model MSE value is smaller than the old model MSE this also states that the overall model accuracy is good enough. "
   ]
  },
  {
   "cell_type": "markdown",
   "id": "86df2311-6e24-4cc6-a984-8f30e61fa274",
   "metadata": {
    "tags": []
   },
   "source": [
    "# reference\n",
    "dataset：\n",
    "1. https://www.kaggle.com/datasets/rajyellow46/wine-quality/code\n",
    "2. https://www.kaggle.com/code/brendangberkman/wine-type-prediction this link is a prediction project that is similar to mine. I did not copy/paraphrase any code from this project, but just in case that there might be some similar code with this project. \n",
    "3. https://archive.ics.uci.edu/ml/datasets/wine+quality\n",
    "\n",
    "other reference：  \n",
    "1. https://blog.csdn.net/qq_31279347/article/details/82795405\n",
    "1. https://blog.csdn.net/wanglingli95/article/details/78887771\n",
    "3. https://datacarpentry.org/python-socialsci/11-joins/index.html\n",
    "4. https://www.cnblogs.com/yanjy-onlyone/p/11288098.html\n",
    "5. https://www.geeksforgeeks.org/how-to-convert-categorical-data-to-binary-data-in-python/\n",
    "6. https://scikit-learn.org/stable/modules/generated/sklearn.linear_model.LogisticRegression.html\n",
    "7. https://scikit-learn.org/stable/glossary.html#term-random_state\n",
    "8. https://stackoverflow.com/questions/36856428/attributeerror-function-object-has-no-attribute-bar-in-pandas\n",
    "9. https://stackoverflow.com/questions/52404971/get-a-list-of-categories-of-categorical-variable-python-pandas\n",
    "10. https://cmdlinetips.com/2019/03/how-to-make-grouped-boxplots-in-python-with-seaborn/\"\n",
    "11. https://www.javatpoint.com/how-to-create-a-dataframes-in-python\n",
    "12. https://moonbooks.org/Articles/How-to-add-a-legend-for-a-scatter-plot-in-matplotlib-/\n",
    "13. https://pythonprogramming.net/how-to-program-best-fit-line-machine-learning-tutorial/\n",
    "14. https://python-graph-gallery.com/3-control-color-of-barplots\n",
    "15. https://scikit-learn.org/stable/modules/linear_model.html\n",
    "16. https://git-lfs.github.com/\n",
    "17. https://towardsdatascience.com/linear-regression-in-python-9a1f5f000606"
   ]
  },
  {
   "cell_type": "code",
   "execution_count": null,
   "id": "8853e9d5-e7df-4764-a084-da0705a21a89",
   "metadata": {},
   "outputs": [],
   "source": []
  },
  {
   "cell_type": "code",
   "execution_count": null,
   "id": "9c73980f-eb6c-4259-ba33-aadc2768c34b",
   "metadata": {},
   "outputs": [],
   "source": []
  }
 ],
 "metadata": {
  "kernelspec": {
   "display_name": "Python 3 (ipykernel)",
   "language": "python",
   "name": "python3"
  },
  "language_info": {
   "codemirror_mode": {
    "name": "ipython",
    "version": 3
   },
   "file_extension": ".py",
   "mimetype": "text/x-python",
   "name": "python",
   "nbconvert_exporter": "python",
   "pygments_lexer": "ipython3",
   "version": "3.9.10"
  }
 },
 "nbformat": 4,
 "nbformat_minor": 5
}
