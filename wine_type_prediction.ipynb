{
 "cells": [
  {
   "cell_type": "markdown",
   "id": "edf2a3f1-cb66-44d1-aa18-7c1d0c5f0779",
   "metadata": {},
   "source": [
    "# Wine type prediction"
   ]
  },
  {
   "cell_type": "code",
   "execution_count": null,
   "id": "898f8d9a-1123-41b7-bb50-072d42e1cf98",
   "metadata": {},
   "outputs": [],
   "source": [
    "import pandas as pd\n",
    "import random\n",
    "import matplotlib.pyplot as plt\n",
    "import matplotlib.patches as mpatches\n",
    "import numpy as np\n",
    "from collections import Counter\n",
    "from sklearn import model_selection,linear_model,metrics\n",
    "import seaborn as sns\n",
    "from statistics import mean\n",
    "from matplotlib import style"
   ]
  },
  {
   "cell_type": "markdown",
   "id": "6d44a362-6413-4cb2-a072-6518fab20b4e",
   "metadata": {},
   "source": [
    "## Introduction"
   ]
  },
  {
   "cell_type": "markdown",
   "id": "e32b380c-9e8e-4ae5-a924-02fbe43eef70",
   "metadata": {},
   "source": [
    "Recently people like to drink alchol and wine plays an really important rule in the alchol family. In this project I will use the dataset from kaggles to predict the type of the wine such as red wine and white wine according to other 10 different variables including fixed acidity, volatile acidity,citric acid,residual sugar,chlorides,free sulfur dioxide,total sulfur dioxide,density,pH,sulphates,alcohol,quality, in which all the variables except the quality, and type are continuous numerical variables. This project is published on github with the name of [Wine_quality_analysis](https://github.com/harrysyz99/Wine_quality_analysis)"
   ]
  },
  {
   "cell_type": "markdown",
   "id": "3ca1bc92-da5e-41bc-9ffd-b0f2ea48c8ef",
   "metadata": {},
   "source": [
    "This project also have a publish [github repo](https://github.com/harrysyz99/Wine_quality_analysis), and this project is using the MIT defult license. If you want to directly use all the information or you can directly use run the code without setting the environment or file path please look at the gitrepo and clone the git repo on your local machine."
   ]
  },
  {
   "cell_type": "markdown",
   "id": "a72e40c9-17f0-4ae8-b277-e8074128d722",
   "metadata": {
    "tags": []
   },
   "source": [
    "## Dataset"
   ]
  },
  {
   "cell_type": "markdown",
   "id": "928b3d8d-3005-4e9c-b7b5-fb45735c652b",
   "metadata": {},
   "source": [
    "This dataset is from kaggle free and public dataset the original name of the datset is called [Wine Quality](https://www.kaggle.com/datasets/rajyellow46/wine-quality). According to the discription this dataset is originally from the UCI data set website, which is called the same name [wine Quality on UCI](https://archive.ics.uci.edu/ml/datasets/wine+quality),these two links has been copied to the references part at the end. These data set have is ordered by the type of the wine but the sample size between two types of the wine are different. Therefore when I preprocessed the dataset I need to do some spliting first. "
   ]
  },
  {
   "cell_type": "markdown",
   "id": "4cb86d3f-a6dc-4510-bd37-d4d28da57906",
   "metadata": {},
   "source": [
    "The next cell is loading the data and since there are some of the variables have na existed and in order to avoid the possible conflict, I used the dropna() function to drop every NA from the dataset."
   ]
  },
  {
   "cell_type": "code",
   "execution_count": null,
   "id": "fc2fd75b-2edb-405a-b4c5-ec11d6a10368",
   "metadata": {},
   "outputs": [],
   "source": [
    "winedataset = pd.read_csv(\"winequalityN.csv\").dropna()\n",
    "winedataset"
   ]
  },
  {
   "cell_type": "code",
   "execution_count": null,
   "id": "a061b790-98bf-446a-bd86-f4e9a9af0be0",
   "metadata": {},
   "outputs": [],
   "source": [
    "typecount = winedataset.groupby(\"type\").size()\n",
    "typecount"
   ]
  },
  {
   "cell_type": "markdown",
   "id": "cf42851b-1258-423d-b05b-93740df5aaaa",
   "metadata": {},
   "source": [
    "As I mentioned before the sample size between two type of the wine are diffenence and we can find out that there is a huge difference between two types. Since we will split the train test data I will randomly select 1593 white wine out of the 4870 white wine. In order to make sure that when we split the train and testing data we could have the same sample size between two types of wine in order to avoid any bias situation."
   ]
  },
  {
   "cell_type": "code",
   "execution_count": null,
   "id": "94903e11-e3b8-4570-9459-dd978261bc82",
   "metadata": {},
   "outputs": [],
   "source": [
    "plt.bar(x = [\"red\",\"white\"], height=[typecount[\"red\"],typecount[\"white\"]], color = [\"red\",\"blue\"])\n",
    "plt.title(\"Figure 1: bar plot for the amount for red wine and white wine\")"
   ]
  },
  {
   "cell_type": "code",
   "execution_count": null,
   "id": "e50c09a4-1a7b-4d7e-830e-e7fe610127ba",
   "metadata": {},
   "outputs": [],
   "source": [
    "index = random.sample(list(range(0,4870,1)),1593)\n",
    "white = winedataset[winedataset.type == \"white\"].iloc[index]\n",
    "white\n",
    "red = winedataset[winedataset.type == \"red\"]\n",
    "red"
   ]
  },
  {
   "cell_type": "code",
   "execution_count": null,
   "id": "1515495e-4147-4ac5-8e86-10f5a4906455",
   "metadata": {},
   "outputs": [],
   "source": [
    "finaldata = pd.concat([white,red])\n",
    "finaldata"
   ]
  },
  {
   "cell_type": "code",
   "execution_count": null,
   "id": "78b39c10-09a3-4a6a-b947-a77f37350caf",
   "metadata": {},
   "outputs": [],
   "source": [
    "finaldata.dtypes"
   ]
  },
  {
   "cell_type": "code",
   "execution_count": null,
   "id": "5818ef79-c5ec-43e0-aa71-1ba13c1f2c90",
   "metadata": {
    "scrolled": true,
    "tags": []
   },
   "outputs": [],
   "source": [
    "list(finaldata.columns.values)"
   ]
  },
  {
   "cell_type": "markdown",
   "id": "a9ea1bf7-0e4c-4e18-bf61-5b828a9b204f",
   "metadata": {},
   "source": [
    "The above dataset is the final dataset that have all the information neeeded. "
   ]
  },
  {
   "cell_type": "markdown",
   "id": "7703f50a-291b-4f5b-a022-588b4629dd69",
   "metadata": {},
   "source": [
    "## First insight of the dataset"
   ]
  },
  {
   "cell_type": "markdown",
   "id": "63c9f0fb-135a-4e17-81f2-7e50b0ac0df3",
   "metadata": {},
   "source": [
    "In this section I will use plenty of plots to shows the trend relationship statistical feature of the dataset itself. "
   ]
  },
  {
   "cell_type": "code",
   "execution_count": null,
   "id": "7f694364-e73b-48df-a4e1-151c80d501ff",
   "metadata": {},
   "outputs": [],
   "source": [
    "finaldata[\"quality\"].value_counts().plot(kind='bar',\n",
    "                                         color = ['yellow','black', 'red', 'green', 'blue', 'cyan', 'purple'],\n",
    "                                         alpha = 0.6)\n",
    "plt.xlabel(\"quality of the wine\")\n",
    "plt.ylabel(\"frequency\")\n",
    "plt.title(\"Figure 2:frequency of each wine quality type\")"
   ]
  },
  {
   "cell_type": "markdown",
   "id": "342c658b-6a90-4b40-9a85-288fd5c44d4f",
   "metadata": {},
   "source": [
    "according to the above plot we can find out that most of the wine quality has been graded as 6."
   ]
  },
  {
   "cell_type": "markdown",
   "id": "b03739a8-ee84-4963-975c-c3f487a18834",
   "metadata": {},
   "source": [
    "Then I will find the relationship between wine type and each other variables."
   ]
  },
  {
   "cell_type": "code",
   "execution_count": null,
   "id": "35dc3db1-9858-47ae-b9c5-a1524e2eb5a0",
   "metadata": {
    "tags": []
   },
   "outputs": [],
   "source": [
    "sns.boxplot(x = \"type\", y =\"quality\",data = finaldata).set_title('Figure 3: boxplot for wine type and quality')"
   ]
  },
  {
   "cell_type": "markdown",
   "id": "7568d9f4-1c19-4227-8e01-07e5a77ee97f",
   "metadata": {},
   "source": [
    "From this above plot we can find out that the distribution between these two types of wine and the quality is almost the same therefore we do not need to do any process to the variables of quality."
   ]
  },
  {
   "cell_type": "code",
   "execution_count": null,
   "id": "2048b605-5a17-40c7-b811-3527c32ff60a",
   "metadata": {},
   "outputs": [],
   "source": [
    "sns.boxplot(x = \"type\", y ='fixed acidity',data = finaldata).set_title('Figure 4:boxplot for wine type and fixed acidity')"
   ]
  },
  {
   "cell_type": "code",
   "execution_count": null,
   "id": "72bfd988-cfe7-417e-9ffe-755010e5b816",
   "metadata": {},
   "outputs": [],
   "source": [
    "data1 = white['fixed acidity']\n",
    "data2 = red['fixed acidity']\n",
    "plt.figure(figsize=(8,6))\n",
    "plt.hist(data1, bins=100, alpha=0.5, label=\"data1\")\n",
    "plt.hist(data2, bins=100, alpha=0.5, label=\"data2\")\n",
    "plt.title(\"Figure 5:overlapping hiftogram between type and fixed acidity\")"
   ]
  },
  {
   "cell_type": "code",
   "execution_count": null,
   "id": "38211009-cfda-4211-9b47-7e5e4839560a",
   "metadata": {},
   "outputs": [],
   "source": [
    "sns.boxplot(x = \"type\", y ='volatile acidity',data = finaldata).set_title('Figure 6:boxplot for wine type and volatile acidity')"
   ]
  },
  {
   "cell_type": "code",
   "execution_count": null,
   "id": "3bba4e13-a819-4638-b199-46434c59e4e5",
   "metadata": {},
   "outputs": [],
   "source": [
    "data1 = white['volatile acidity']\n",
    "data2 = red['volatile acidity']\n",
    "plt.figure(figsize=(8,6))\n",
    "plt.hist(data1, bins=100, alpha=0.5, label=\"data1\")\n",
    "plt.hist(data2, bins=100, alpha=0.5, label=\"data2\")\n",
    "plt.title(\"Figure 7:overlapping hiftogram between type and volatile acidity\")"
   ]
  },
  {
   "cell_type": "code",
   "execution_count": null,
   "id": "1df92b9c-8550-496b-900b-82f844545069",
   "metadata": {},
   "outputs": [],
   "source": [
    "sns.boxplot(x = \"type\", y ='citric acid',data = finaldata).set_title('Figure 8:boxplot for wine type and citric acid')"
   ]
  },
  {
   "cell_type": "code",
   "execution_count": null,
   "id": "8df17a57-121b-453c-baed-3c3abb0594a7",
   "metadata": {},
   "outputs": [],
   "source": [
    "data1 = white['citric acid']\n",
    "data2 = red['citric acid']\n",
    "plt.figure(figsize=(8,6))\n",
    "plt.hist(data1, bins=100, alpha=0.5, label=\"data1\")\n",
    "plt.hist(data2, bins=100, alpha=0.5, label=\"data2\")\n",
    "plt.title(\"Figure 9:overlapping hiftogram between type and citric acid\")"
   ]
  },
  {
   "cell_type": "code",
   "execution_count": null,
   "id": "394c7454-dab9-466a-a98b-ebb61fbdd0a4",
   "metadata": {},
   "outputs": [],
   "source": [
    "sns.boxplot(x = \"type\", y ='residual sugar',data = finaldata).set_title('Figure 10:boxplot for wine type and residual sugar')"
   ]
  },
  {
   "cell_type": "code",
   "execution_count": null,
   "id": "ce905137-b7f5-4ef9-90da-0a8edd294702",
   "metadata": {},
   "outputs": [],
   "source": [
    "data1 = white['residual sugar']\n",
    "data2 = red['residual sugar']\n",
    "plt.figure(figsize=(8,6))\n",
    "plt.hist(data1, bins=100, alpha=0.5, label=\"data1\")\n",
    "plt.hist(data2, bins=100, alpha=0.5, label=\"data2\")\n",
    "plt.title(\"Figure 11:overlapping hiftogram between type and residual sugar\")"
   ]
  },
  {
   "cell_type": "code",
   "execution_count": null,
   "id": "9734f408-203d-4827-b1aa-e7a7ea7f4cab",
   "metadata": {},
   "outputs": [],
   "source": [
    "sns.boxplot(x = \"type\", y ='chlorides',data = finaldata).set_title('Figure 12:boxplot for wine type and chlorides')"
   ]
  },
  {
   "cell_type": "code",
   "execution_count": null,
   "id": "e54a5d3c-1a5d-4172-9569-1bef139656c1",
   "metadata": {},
   "outputs": [],
   "source": [
    "data1 = white['chlorides']\n",
    "data2 = red['chlorides']\n",
    "plt.figure(figsize=(8,6))\n",
    "plt.hist(data1, bins=100, alpha=0.5, label=\"data1\")\n",
    "plt.hist(data2, bins=100, alpha=0.5, label=\"data2\")\n",
    "plt.title(\"Figure 13:overlapping hiftogram between type and chlorides\")"
   ]
  },
  {
   "cell_type": "code",
   "execution_count": null,
   "id": "35a7242c-7e0d-4c63-958f-beccc20cc64d",
   "metadata": {},
   "outputs": [],
   "source": [
    "sns.boxplot(x = \"type\", y ='free sulfur dioxide',data = finaldata).set_title('Figure 14:boxplot for wine type and free sulfur dioxide')"
   ]
  },
  {
   "cell_type": "code",
   "execution_count": null,
   "id": "5c1a3c27-83d6-45ea-92a6-98c27d7a8284",
   "metadata": {},
   "outputs": [],
   "source": [
    "data1 = white['free sulfur dioxide']\n",
    "data2 = red['free sulfur dioxide']\n",
    "plt.figure(figsize=(8,6))\n",
    "plt.hist(data1, bins=100, alpha=0.5, label=\"data1\")\n",
    "plt.hist(data2, bins=100, alpha=0.5, label=\"data2\")\n",
    "plt.title(\"Figure 15:overlapping hiftogram between type and free sulfur dioxide\")"
   ]
  },
  {
   "cell_type": "code",
   "execution_count": null,
   "id": "9b738bc5-9abe-426a-887a-1444136c912a",
   "metadata": {},
   "outputs": [],
   "source": [
    "sns.boxplot(x = \"type\", y ='total sulfur dioxide',data = finaldata).set_title('Figure 16:boxplot for wine type and total sulfur dioxide')"
   ]
  },
  {
   "cell_type": "code",
   "execution_count": null,
   "id": "23244334-91da-4bef-8079-df54255f962a",
   "metadata": {},
   "outputs": [],
   "source": [
    "data1 = white['total sulfur dioxide']\n",
    "data2 = red['total sulfur dioxide']\n",
    "plt.figure(figsize=(8,6))\n",
    "plt.hist(data1, bins=100, alpha=0.5, label=\"data1\")\n",
    "plt.hist(data2, bins=100, alpha=0.5, label=\"data2\")\n",
    "plt.title(\"Figure 17:overlapping hiftogram between type and total sulfur dioxide\")"
   ]
  },
  {
   "cell_type": "code",
   "execution_count": null,
   "id": "16128b86-f62b-41d9-9a39-cf87904410e1",
   "metadata": {},
   "outputs": [],
   "source": [
    "sns.boxplot(x = \"type\", y ='density',data = finaldata).set_title('Figure 18:boxplot for wine type and density')"
   ]
  },
  {
   "cell_type": "code",
   "execution_count": null,
   "id": "9bb7b459-9828-4198-a2b2-b62ef19427dc",
   "metadata": {},
   "outputs": [],
   "source": [
    "data1 = white['density']\n",
    "data2 = red['density']\n",
    "plt.figure(figsize=(8,6))\n",
    "plt.hist(data1, bins=100, alpha=0.5, label=\"data1\")\n",
    "plt.hist(data2, bins=100, alpha=0.5, label=\"data2\")\n",
    "plt.title(\"Figure 19:overlapping hiftogram between type and total density\")"
   ]
  },
  {
   "cell_type": "code",
   "execution_count": null,
   "id": "3f698f41-138c-41c9-a17b-b06dd124b61e",
   "metadata": {},
   "outputs": [],
   "source": [
    "sns.boxplot(x = \"type\", y ='pH',data = finaldata).set_title('Figure 20:boxplot for wine type and pH')"
   ]
  },
  {
   "cell_type": "code",
   "execution_count": null,
   "id": "1f45c7e0-7ef1-41af-9aa2-871c9ea1aa2f",
   "metadata": {},
   "outputs": [],
   "source": [
    "data1 = white['pH']\n",
    "data2 = red['pH']\n",
    "plt.figure(figsize=(8,6))\n",
    "plt.hist(data1, bins=100, alpha=0.5, label=\"data1\")\n",
    "plt.hist(data2, bins=100, alpha=0.5, label=\"data2\")\n",
    "plt.title(\"Figure 21:overlapping hiftogram between type and pH\")"
   ]
  },
  {
   "cell_type": "code",
   "execution_count": null,
   "id": "9539cde2-033e-4f4f-8cb4-a814a46e6bd3",
   "metadata": {
    "tags": []
   },
   "outputs": [],
   "source": [
    "sns.boxplot(x = \"type\", y ='sulphates',data = finaldata).set_title('Figure 22:boxplot for wine type and sulphates')"
   ]
  },
  {
   "cell_type": "code",
   "execution_count": null,
   "id": "c1104dc3-7f16-4fd2-9820-bbe2eabed796",
   "metadata": {},
   "outputs": [],
   "source": [
    "data1 = white['sulphates']\n",
    "data2 = red['sulphates']\n",
    "plt.figure(figsize=(8,6))\n",
    "plt.hist(data1, bins=100, alpha=0.5, label=\"data1\")\n",
    "plt.hist(data2, bins=100, alpha=0.5, label=\"data2\")\n",
    "plt.title(\"Figure 23:overlapping hiftogram between type and sulphates\")"
   ]
  },
  {
   "cell_type": "code",
   "execution_count": null,
   "id": "e40d7c30-72ec-4cbb-a24c-1e26a103d9ba",
   "metadata": {},
   "outputs": [],
   "source": [
    "sns.boxplot(x = \"type\", y ='alcohol',data = finaldata).set_title('Figure 24:boxplot for wine type and alcohol')"
   ]
  },
  {
   "cell_type": "code",
   "execution_count": null,
   "id": "ef203485-3ac6-40e8-b1bb-6c48ba1700fc",
   "metadata": {},
   "outputs": [],
   "source": [
    "data1 = white['alcohol']\n",
    "data2 = red['alcohol']\n",
    "plt.figure(figsize=(8,6))\n",
    "plt.hist(data1, bins=100, alpha=0.5, label=\"data1\")\n",
    "plt.hist(data2, bins=100, alpha=0.5, label=\"data2\")\n",
    "plt.title(\"Figure 25:overlapping hiftogram between type and alcohol\")"
   ]
  },
  {
   "cell_type": "markdown",
   "id": "08b057a0-0859-4695-bf9c-4b3dd5de1960",
   "metadata": {},
   "source": [
    "According to the above data we can find out that the quality, alcohol, citric acid do not have a huge differences between white and red wine, and  sulphates,pH,chlorides have small difference in between. Therefore I will start to use some variables which do not have much differences. In addition I also draw a overlapping histogram in order to further make sure that they share the same distribution. "
   ]
  },
  {
   "cell_type": "markdown",
   "id": "edb6aab8-f927-488c-9bbf-0df02f0b1d6a",
   "metadata": {
    "tags": []
   },
   "source": [
    "## Data Spliting"
   ]
  },
  {
   "cell_type": "code",
   "execution_count": null,
   "id": "7df83ce4-245b-4860-bbc6-f6b71e9b4062",
   "metadata": {},
   "outputs": [],
   "source": [
    "y = finaldata[\"type\"]\n",
    "trainx, testx,trainy,testy = model_selection.train_test_split(finaldata,y,test_size = 0.3)\n",
    "trainx = trainx.drop(columns = \"type\")\n",
    "testx = testx.drop(columns = \"type\")"
   ]
  },
  {
   "cell_type": "code",
   "execution_count": null,
   "id": "101a4dbc-c7bb-4485-a9e0-957182db55ea",
   "metadata": {},
   "outputs": [],
   "source": [
    "trainx"
   ]
  },
  {
   "cell_type": "markdown",
   "id": "3fda9255-1669-4bf2-8435-d2e2e13a3dac",
   "metadata": {},
   "source": [
    "Since the originally type of the type variables is a object type variables, However in order to use the Lasso Regression, Linear Regression, and Logistic Regression we need to make our prediction variables into dummy variables type as follows."
   ]
  },
  {
   "cell_type": "code",
   "execution_count": null,
   "id": "04d55da2-22ab-4add-8be8-2b32d8d68078",
   "metadata": {},
   "outputs": [],
   "source": [
    "trainy = pd.get_dummies(trainy)\n",
    "trainy"
   ]
  },
  {
   "cell_type": "code",
   "execution_count": null,
   "id": "6ec9cc22-970b-45ef-b325-81c707bd763d",
   "metadata": {},
   "outputs": [],
   "source": [
    "trainy = trainy.drop(columns = \"red\")"
   ]
  },
  {
   "cell_type": "code",
   "execution_count": null,
   "id": "2f42e652-b872-4299-94b9-c2bcf16e84a3",
   "metadata": {},
   "outputs": [],
   "source": [
    "trainy"
   ]
  },
  {
   "cell_type": "code",
   "execution_count": null,
   "id": "1fe026d6-c0ea-4fdf-872e-1753f6e6ee01",
   "metadata": {},
   "outputs": [],
   "source": [
    "testx"
   ]
  },
  {
   "cell_type": "code",
   "execution_count": null,
   "id": "e9ec4c1e-983e-486d-bc08-e15fa2a753f5",
   "metadata": {},
   "outputs": [],
   "source": [
    "testy = pd.get_dummies(testy)"
   ]
  },
  {
   "cell_type": "code",
   "execution_count": null,
   "id": "0160c5af-e851-4bcd-9452-1712711644f9",
   "metadata": {},
   "outputs": [],
   "source": [
    "testy = testy.drop(columns= \"red\")"
   ]
  },
  {
   "cell_type": "code",
   "execution_count": null,
   "id": "0f7a494c-3f54-4228-bede-2c458ac8ad3b",
   "metadata": {},
   "outputs": [],
   "source": [
    "testy"
   ]
  },
  {
   "cell_type": "markdown",
   "id": "7da5b8e0-46c8-42a1-a6ab-852c4f69bd03",
   "metadata": {
    "tags": []
   },
   "source": [
    "# Initial Model"
   ]
  },
  {
   "cell_type": "code",
   "execution_count": null,
   "id": "1c249fb0-cae1-4ecc-a65e-2af5b3b297ab",
   "metadata": {},
   "outputs": [],
   "source": [
    "trainx"
   ]
  },
  {
   "cell_type": "markdown",
   "id": "31c01be2-9526-44f0-a550-76ca260a62ef",
   "metadata": {},
   "source": [
    "For the first model I will use the variables which do not have a huge difference between red and white wine, which are quality, alcohol, citric acid"
   ]
  },
  {
   "cell_type": "code",
   "execution_count": null,
   "id": "d95cd84f-d7ee-48f7-8deb-4e190926b879",
   "metadata": {},
   "outputs": [],
   "source": [
    "train_new = trainx[[\"quality\", \"alcohol\", \"citric acid\"]]\n",
    "train_new"
   ]
  },
  {
   "cell_type": "code",
   "execution_count": null,
   "id": "806a6c13-d78c-425a-9553-5bb988364132",
   "metadata": {},
   "outputs": [],
   "source": [
    "test_new = testx[[\"quality\", \"alcohol\", \"citric acid\"]]\n",
    "test_new"
   ]
  },
  {
   "cell_type": "code",
   "execution_count": null,
   "id": "81900dd9-3dba-42b7-941a-d123cefa2c73",
   "metadata": {},
   "outputs": [],
   "source": [
    "lgm = linear_model.LinearRegression()\n",
    "lgm.fit(train_new, trainy)"
   ]
  },
  {
   "cell_type": "code",
   "execution_count": null,
   "id": "414b9b6d-e2e2-45b7-b554-3849484a8e95",
   "metadata": {},
   "outputs": [],
   "source": [
    "print(lgm.coef_)"
   ]
  },
  {
   "cell_type": "code",
   "execution_count": null,
   "id": "c183a1c6-a34e-4b5d-91ff-767267ac825f",
   "metadata": {},
   "outputs": [],
   "source": [
    "lgmtrain1 = lgm.score(train_new,trainy)\n",
    "lgmtrain1"
   ]
  },
  {
   "cell_type": "code",
   "execution_count": null,
   "id": "18e1699c-b5a2-4339-86af-e6b91172aabc",
   "metadata": {},
   "outputs": [],
   "source": [
    "lgmtest1 = lgm.score(test_new,testy)\n",
    "lgmtest1"
   ]
  },
  {
   "cell_type": "code",
   "execution_count": null,
   "id": "07bca7b4-3930-4d8c-b7c2-8bb495533339",
   "metadata": {},
   "outputs": [],
   "source": [
    "MSEtrainlgm = metrics.mean_squared_error(trainy, lgm.predict(train_new))\n",
    "MSEtestlgm = metrics.mean_squared_error(testy,lgm.predict(test_new))\n",
    "MSEtestlgm"
   ]
  },
  {
   "cell_type": "code",
   "execution_count": null,
   "id": "f3cb8bd8-7934-4b32-b15f-ebbba52f3611",
   "metadata": {},
   "outputs": [],
   "source": [
    "lasso = linear_model.Lasso()\n",
    "lasso.fit(train_new, trainy)"
   ]
  },
  {
   "cell_type": "code",
   "execution_count": null,
   "id": "b126f85a-d29f-41ab-b566-7ca9198d484b",
   "metadata": {},
   "outputs": [],
   "source": [
    "print(lasso.coef_)"
   ]
  },
  {
   "cell_type": "code",
   "execution_count": null,
   "id": "e805fff9-0201-47fa-a51f-686500d89c1b",
   "metadata": {},
   "outputs": [],
   "source": [
    "lassotrain1= lasso.score(train_new,trainy)"
   ]
  },
  {
   "cell_type": "code",
   "execution_count": null,
   "id": "999facd8-48b0-4578-aec6-8eddef132223",
   "metadata": {},
   "outputs": [],
   "source": [
    "lassotest1 = lasso.score(test_new,testy)"
   ]
  },
  {
   "cell_type": "code",
   "execution_count": null,
   "id": "dd2b62e6-6d46-4e5c-87e6-6aa5f8226593",
   "metadata": {},
   "outputs": [],
   "source": [
    "MSEtrainlasso = metrics.mean_squared_error(trainy, lasso.predict(train_new))\n",
    "MSEtestlasso = metrics.mean_squared_error(testy,lasso.predict(test_new))\n",
    "MSEtestlasso"
   ]
  },
  {
   "cell_type": "code",
   "execution_count": null,
   "id": "7c01ad78-c4df-489a-b538-1439f71e703c",
   "metadata": {},
   "outputs": [],
   "source": [
    "logit = linear_model.LogisticRegression(solver=\"sag\")\n",
    "logit.fit(train_new, trainy)"
   ]
  },
  {
   "cell_type": "code",
   "execution_count": null,
   "id": "9ff81d0d-be27-4ee1-8851-f46215d972c4",
   "metadata": {},
   "outputs": [],
   "source": [
    "print(logit.coef_)"
   ]
  },
  {
   "cell_type": "code",
   "execution_count": null,
   "id": "25fe4c8b-232e-46f4-8352-f11497d6a6d4",
   "metadata": {},
   "outputs": [],
   "source": []
  },
  {
   "cell_type": "code",
   "execution_count": null,
   "id": "bb8c7f1e-b702-4fbd-a654-9c58fa027b2e",
   "metadata": {},
   "outputs": [],
   "source": [
    "logittrain1 =logit.score(train_new,trainy)"
   ]
  },
  {
   "cell_type": "code",
   "execution_count": null,
   "id": "f6dd237c-7ea1-492a-8d5a-5255c387099e",
   "metadata": {},
   "outputs": [],
   "source": [
    "logittest1 = logit.score(test_new,testy)"
   ]
  },
  {
   "cell_type": "code",
   "execution_count": null,
   "id": "7101d696-81f7-443a-a8e3-11dfa77e3d31",
   "metadata": {},
   "outputs": [],
   "source": [
    "MSEtrainlogit = metrics.mean_squared_error(trainy, logit.predict(train_new))\n",
    "MSEtestlogit = metrics.mean_squared_error(testy,logit.predict(test_new))\n",
    "MSEtestlogit"
   ]
  },
  {
   "cell_type": "code",
   "execution_count": null,
   "id": "8dde5eb2-6fd4-40af-a691-3c2245c6d00d",
   "metadata": {},
   "outputs": [],
   "source": [
    "data = {'test':[MSEtestlgm,MSEtestlogit,MSEtestlasso],'train':[MSEtrainlgm,MSEtrainlogit,MSEtrainlasso]}\n",
    "pd.DataFrame(data, index =['Linear Reg', 'Logistic', 'Lasso'])"
   ]
  },
  {
   "cell_type": "code",
   "execution_count": null,
   "id": "45d64f6b-691b-4832-8de2-fa695eb594df",
   "metadata": {},
   "outputs": [],
   "source": [
    "coef = {'X1':[lgm.coef_[0][0],lasso.coef_[0],logit.coef_[0][0]],'X2':[lgm.coef_[0][1],lasso.coef_[1],logit.coef_[0][1]],'X3':[lgm.coef_[0][2],lasso.coef_[2],logit.coef_[0][2]]}\n",
    "pd.DataFrame(coef, index =['Linear Reg','Lasso', 'Logistic' ])"
   ]
  },
  {
   "cell_type": "markdown",
   "id": "6e16ff5f-b06e-4d20-afdc-ca9334ebf062",
   "metadata": {},
   "source": [
    "As we can see from the above MSE, the mse number is really small which means that this is not a proper model , or these variables is not choosing properly. In order to make our model more accurate we need to involve more variables and delete any variables which is not proper. In order to find more feature for the variables I will draw more plot in order to show the features."
   ]
  },
  {
   "cell_type": "code",
   "execution_count": null,
   "id": "b498b79c-3164-41c6-99cb-b2867468746b",
   "metadata": {},
   "outputs": [],
   "source": [
    "def best_fit_slope_and_intercept(xs,ys):\n",
    "    m = (((mean(xs)*mean(ys)) - mean(xs*ys)) /\n",
    "         ((mean(xs)*mean(xs)) - mean(xs*xs)))\n",
    "    \n",
    "    b = mean(ys) - m*mean(xs)\n",
    "\n",
    "    return m, b"
   ]
  },
  {
   "cell_type": "code",
   "execution_count": null,
   "id": "fb2738e0-f47d-4f5f-bbf1-5d3c2db51948",
   "metadata": {},
   "outputs": [],
   "source": [
    "style.use('ggplot')\n",
    "fig, ax = plt.subplots(figsize=(10, 8))\n",
    "ax.scatter(x = finaldata[\"total sulfur dioxide\"],y =[finaldata[\"free sulfur dioxide\"]-finaldata[\"free sulfur dioxide\"].mean()],c = \"red\",alpha = 0.3)\n",
    "ax.scatter(x = finaldata[\"total sulfur dioxide\"],y =[finaldata[\"sulphates\"]-finaldata[\"sulphates\"].mean()], c= \"blue\",alpha = 0.3)\n",
    "pop_a = mpatches.Patch(color='red', label='free sulfur dioxide',alpha = 0.3)\n",
    "pop_b = mpatches.Patch(color='blue', label='sulphates',alpha = 0.3)\n",
    "pop_c = mpatches.Patch(color='black', label='regression line for sulphate')\n",
    "pop_d = mpatches.Patch(color=\"orange\", label = \"regression line for the free sulfur dioxide\")\n",
    "plt.title(\"Figure 26:sctter plot between total sulfur dioxide and free sulfure dioxide , and sulphates\")\n",
    "ax.legend(handles=[pop_b,pop_a,pop_c,pop_d],prop={\"size\":20})\n",
    "m1,b1 = best_fit_slope_and_intercept(finaldata[\"total sulfur dioxide\"],finaldata[\"sulphates\"])\n",
    "best_fit_line = [(m1*x)+b1 for x in finaldata[\"total sulfur dioxide\"]]\n",
    "m2,b2 = best_fit_slope_and_intercept(finaldata[\"total sulfur dioxide\"],finaldata[\"free sulfur dioxide\"])\n",
    "best_fit_line2 = [(m2*x)+b2 for x in finaldata[\"total sulfur dioxide\"]]\n",
    "plt.plot(finaldata[\"total sulfur dioxide\"], best_fit_line, c = \"black\")\n",
    "plt.plot(finaldata[\"total sulfur dioxide\"],best_fit_line2,c = \"orange\")\n"
   ]
  },
  {
   "cell_type": "markdown",
   "id": "2c94da5a-3bcb-493b-b8ad-d58f67aa1f26",
   "metadata": {},
   "source": [
    "According to this scatter plot we can find out that there is not relationshiop between sulphate and total sulfur dioxide, however in order to prevent the potential scaling mistakes I will write an individual scatter plot between sulphates and total sulfur dioxide."
   ]
  },
  {
   "cell_type": "code",
   "execution_count": null,
   "id": "bf906e41-0fff-41b8-8c50-811267cec2af",
   "metadata": {},
   "outputs": [],
   "source": [
    "plt.scatter(x = finaldata[\"total sulfur dioxide\"],y =[finaldata[\"sulphates\"]-finaldata[\"sulphates\"].mean()], c= \"blue\",alpha = 0.3)\n",
    "plt.title(\"Figure 27:scatter plot of total sulfur dioxide and sulphates\")\n",
    "plt.xlabel(\"total sulfur dioxide\")\n",
    "plt.ylabel(\"sulphates\")"
   ]
  },
  {
   "cell_type": "markdown",
   "id": "c6ec0229-af9d-48fe-84e8-310ecc8889be",
   "metadata": {},
   "source": [
    "According to the scatter plot we can make sure that the relation ship between sulphates and total sulfur dioxide are really small."
   ]
  },
  {
   "cell_type": "code",
   "execution_count": null,
   "id": "5a92f01e-497d-4fb8-857d-033dafc63766",
   "metadata": {},
   "outputs": [],
   "source": [
    "fig, ax = plt.subplots(figsize=(10, 8))\n",
    "ax.scatter(x = finaldata[\"pH\"],y =finaldata[\"fixed acidity\"],c = \"red\",alpha = 0.3)\n",
    "ax.scatter(x = finaldata[\"pH\"],y =finaldata[\"volatile acidity\"], c= \"blue\",alpha = 0.3)\n",
    "ax.scatter(x = finaldata[\"pH\"],y =finaldata[\"citric acid\"], c= \"green\",alpha = 0.3)\n",
    "pop_a = mpatches.Patch(color='red', label='fixed acidity',alpha = 0.3)\n",
    "pop_b = mpatches.Patch(color='blue', label='volatile acidity',alpha = 0.3)\n",
    "pop_c = mpatches.Patch(color='green', label='citric acid',alpha = 0.3)\n",
    "pop_d = mpatches.Patch(color=\"orange\", label=' regression line for fixed acidity',alpha = 0.3)\n",
    "pop_e = mpatches.Patch(color=\"black\", label='regression line for volatile acidity',alpha = 0.3)\n",
    "pop_f = mpatches.Patch(color=\"purple\", label='regression line for citric acid',alpha = 0.3)\n",
    "\n",
    "m1,b1 = best_fit_slope_and_intercept(finaldata[\"pH\"],finaldata[\"fixed acidity\"])\n",
    "best_fit_line = [(m1*x)+b1 for x in finaldata[\"pH\"]]\n",
    "m2,b2 = best_fit_slope_and_intercept(finaldata[\"pH\"],finaldata[\"volatile acidity\"])\n",
    "best_fit_line2 = [(m2*x)+b2 for x in finaldata[\"pH\"]]\n",
    "m3,b3 = best_fit_slope_and_intercept(finaldata[\"pH\"],finaldata[\"citric acid\"])\n",
    "best_fit_line3 = [(m3*x)+b3 for x in finaldata[\"pH\"]]\n",
    "plt.plot(finaldata[\"pH\"], best_fit_line, c = \"orange\")\n",
    "plt.plot(finaldata[\"pH\"],best_fit_line2,c = \"black\")\n",
    "plt.plot(finaldata[\"pH\"],best_fit_line3,c = \"purple\")\n",
    "plt.xlabel(\"pH\")\n",
    "\n",
    "plt.title(\"Figure 28:sctter plot between pH level and 3 acid concenration\")\n",
    "ax.legend(handles=[pop_a,pop_b,pop_c,pop_d,pop_e,pop_f])"
   ]
  },
  {
   "cell_type": "markdown",
   "id": "b3cb9bff-a5ec-4000-9629-a4f0abc3928d",
   "metadata": {},
   "source": [
    "This scatter plot shows that similar trend between pH and volatile acidity and ph with citric acid. As usual I will draw two individual scatter plot for this two relationship in order to prevent the potential scaling error. "
   ]
  },
  {
   "cell_type": "code",
   "execution_count": null,
   "id": "029f40d3-9339-4fb2-ac69-00f53f7f9a36",
   "metadata": {},
   "outputs": [],
   "source": [
    "plt.scatter(x = finaldata[\"pH\"],y =[finaldata[\"citric acid\"]-finaldata[\"citric acid\"].mean()], c= \"green\",alpha = 0.3)\n",
    "plt.xlabel(\"pH\")\n",
    "plt.ylabel(\"citric acid\")\n",
    "plt.title(\"Figure 29:scatter plot between pH and citric acid\")"
   ]
  },
  {
   "cell_type": "code",
   "execution_count": null,
   "id": "acdeedb9-62c7-44c3-a040-281e4060b1b3",
   "metadata": {
    "tags": []
   },
   "outputs": [],
   "source": [
    "plt.scatter(x = finaldata[\"pH\"],y =[finaldata[\"volatile acidity\"]-finaldata[\"volatile acidity\"].mean()], c= \"blue\",alpha = 0.3)\n",
    "plt.xlabel(\"pH\")\n",
    "plt.ylabel(\"volatile acidity\")\n",
    "plt.title(\"Figure 30:scatter plot between pH and volatile acidity\")"
   ]
  },
  {
   "cell_type": "markdown",
   "id": "f6ca9fa5-d96b-48a2-8ffc-5b1561d771f0",
   "metadata": {},
   "source": [
    "According to the above two individual scatter plot we can find out that there are some relationship exists, between pH and volatile acidity and ph with citric acid, so when we modified the model I will further analysis we will take these relationships into the consideration. "
   ]
  },
  {
   "cell_type": "markdown",
   "id": "2cbd9810-18c1-406d-8de5-ba4219ccd61e",
   "metadata": {},
   "source": [
    "## Improved model"
   ]
  },
  {
   "cell_type": "markdown",
   "id": "e09f56ee-7dc1-4ad8-8e00-1778d7eb3c0b",
   "metadata": {},
   "source": [
    "As what we found previously we can find out that there is a relationship between acid and pH and sulphr dioxide and sulphate. Therefore I will use \"fixed acidity\",\"pH\",\"citric acid\",\"total sulfur dioxide\",\"sulphates\",\"volatile acidity\" as my new model variables. "
   ]
  },
  {
   "cell_type": "code",
   "execution_count": null,
   "id": "6976e6f2-6c48-4d49-8dd3-80bae4219725",
   "metadata": {},
   "outputs": [],
   "source": [
    "trainx_final = trainx[[\"fixed acidity\",\"pH\",\"citric acid\",\"total sulfur dioxide\",\"sulphates\",\"volatile acidity\"]]\n",
    "testx_final = testx[[\"fixed acidity\",\"pH\",\"citric acid\",\"total sulfur dioxide\",\"sulphates\",\"volatile acidity\"]]"
   ]
  },
  {
   "cell_type": "code",
   "execution_count": null,
   "id": "089d3b7f-d479-47cc-804b-523ebd2b11ba",
   "metadata": {},
   "outputs": [],
   "source": [
    "lgm2 = linear_model.LinearRegression()\n",
    "lgm2.fit(trainx_final, trainy)"
   ]
  },
  {
   "cell_type": "code",
   "execution_count": null,
   "id": "d00bef0c-4e04-479f-88d5-874763cd9563",
   "metadata": {},
   "outputs": [],
   "source": [
    "lgm2.coef_"
   ]
  },
  {
   "cell_type": "code",
   "execution_count": null,
   "id": "00226dbd-2751-4dd0-97cd-bcdc108a23cd",
   "metadata": {},
   "outputs": [],
   "source": [
    "lgmtrain2 = lgm2.score(trainx_final,trainy)\n",
    "lgmtrain2"
   ]
  },
  {
   "cell_type": "code",
   "execution_count": null,
   "id": "94e69b2c-540e-430e-94c2-061cce96ceaa",
   "metadata": {},
   "outputs": [],
   "source": [
    "lgmtest2= lgm2.score(testx_final,testy)\n",
    "lgmtest2"
   ]
  },
  {
   "cell_type": "code",
   "execution_count": null,
   "id": "e4935bf1-3620-42fe-b84e-4050af8ff165",
   "metadata": {},
   "outputs": [],
   "source": [
    "MSEtrainlgmfinal = metrics.mean_squared_error(trainy, lgm2.predict(trainx_final))\n",
    "MSEtestlgmfinal = metrics.mean_squared_error(testy,lgm2.predict(testx_final))\n",
    "MSEtestlgmfinal"
   ]
  },
  {
   "cell_type": "code",
   "execution_count": null,
   "id": "31302d15-db44-49cd-91e5-bc5e58869eb8",
   "metadata": {},
   "outputs": [],
   "source": [
    "lasso2 = linear_model.Lasso()\n",
    "lasso2.fit(trainx_final, trainy)"
   ]
  },
  {
   "cell_type": "code",
   "execution_count": null,
   "id": "d04b5177-bb4b-425f-b653-5fc3123ad8bc",
   "metadata": {},
   "outputs": [],
   "source": [
    "lasso2.coef_"
   ]
  },
  {
   "cell_type": "code",
   "execution_count": null,
   "id": "ea9975c9-9df9-4be9-91a2-edbbab8c3d71",
   "metadata": {},
   "outputs": [],
   "source": [
    "lassotest2= lasso2.score(testx_final,testy)"
   ]
  },
  {
   "cell_type": "code",
   "execution_count": null,
   "id": "e4f435ed-c191-4390-b784-06247c2011c6",
   "metadata": {},
   "outputs": [],
   "source": [
    "lassotrain2 = lasso2.score(trainx_final,trainy)"
   ]
  },
  {
   "cell_type": "code",
   "execution_count": null,
   "id": "2f44ada0-f946-4c43-ac8d-df516f832503",
   "metadata": {},
   "outputs": [],
   "source": [
    "MSEtrainlassofinal = metrics.mean_squared_error(trainy, lasso2.predict(trainx_final))\n",
    "MSEtestlassofinal = metrics.mean_squared_error(testy,lasso2.predict(testx_final))\n",
    "MSEtestlasso"
   ]
  },
  {
   "cell_type": "markdown",
   "id": "27a7195f-4a47-491a-a56c-b0487fad265a",
   "metadata": {},
   "source": [
    "Since our model is an unscaled model therefore the solver \"sag\" in the Logistic Regression is not properate According to the API documentation of the sklearn we can know that the solver \"newton-cg\" is the solver that fit this situation therefore in this new model I will use the new solver to fit the model. "
   ]
  },
  {
   "cell_type": "code",
   "execution_count": null,
   "id": "b15cab3f-eb44-42b6-8cb2-9f1e10a82633",
   "metadata": {},
   "outputs": [],
   "source": [
    "logit2 = linear_model.LogisticRegression(solver=\"newton-cg\")\n",
    "logit2.fit(trainx_final, trainy)"
   ]
  },
  {
   "cell_type": "code",
   "execution_count": null,
   "id": "8f64b533-eb66-488c-98cb-f04d7750c97b",
   "metadata": {},
   "outputs": [],
   "source": [
    "logit2.coef_"
   ]
  },
  {
   "cell_type": "code",
   "execution_count": null,
   "id": "316569b0-6cc8-4714-a30d-228709a95d1a",
   "metadata": {},
   "outputs": [],
   "source": [
    "logittrain2 = logit2.score(trainx_final,trainy)\n",
    "logittrain2"
   ]
  },
  {
   "cell_type": "code",
   "execution_count": null,
   "id": "dcf9544f-27ad-48bd-9d1b-2aac99f40e3f",
   "metadata": {},
   "outputs": [],
   "source": [
    "logittest2 = logit2.score(testx_final,testy)\n",
    "logittest2"
   ]
  },
  {
   "cell_type": "code",
   "execution_count": null,
   "id": "e485e491-eb06-4dc4-ba91-5a04f191a1d0",
   "metadata": {},
   "outputs": [],
   "source": [
    "MSEtrainlogitfinalfinal = metrics.mean_squared_error(trainy, logit2.predict(trainx_final))\n",
    "MSEtestlogitfinalfinal = metrics.mean_squared_error(testy,logit2.predict(testx_final))\n",
    "MSEtestlogitfinalfinal"
   ]
  },
  {
   "cell_type": "code",
   "execution_count": null,
   "id": "199fca0e-9363-47eb-8876-5138f730d0e0",
   "metadata": {},
   "outputs": [],
   "source": [
    "data = {'test':[MSEtestlgm,MSEtestlogit,MSEtestlasso],'train':[MSEtrainlgm,MSEtrainlogit,MSEtrainlasso]}\n",
    "old = pd.DataFrame(data, index =['Linear Reg', 'Logistic', 'Lasso'])\n",
    "data_final = {'test':[MSEtestlgmfinal,MSEtestlogitfinalfinal,MSEtestlassofinal],'train':[MSEtrainlgmfinal,MSEtrainlogitfinalfinal,MSEtrainlassofinal]}\n",
    "new = pd.DataFrame(data_final, index =['Linear Reg', 'Logistic', 'Lasso'])\n"
   ]
  },
  {
   "cell_type": "code",
   "execution_count": null,
   "id": "fc8d4bfc-a128-4df7-838e-ffdd142ad7e1",
   "metadata": {},
   "outputs": [],
   "source": [
    "old "
   ]
  },
  {
   "cell_type": "code",
   "execution_count": null,
   "id": "2b23896b-a57d-440c-a95a-ebc91c6216bd",
   "metadata": {},
   "outputs": [],
   "source": [
    "new"
   ]
  },
  {
   "cell_type": "code",
   "execution_count": null,
   "id": "8b85ab76-0b2f-4fde-b718-74d5071c1d35",
   "metadata": {},
   "outputs": [],
   "source": [
    "data_compare = {'test':[lgmtest1,lgmtest2,lassotest1,lassotest2,logittest1,logittest2],'train':[lgmtrain1,lgmtrain2,lassotrain1,lassotrain2,logittrain1,logittrain2]}\n",
    "compare = pd.DataFrame(data_compare, index =['Linear Reg old','Linear Reg new','Lasso old','Lasso new','Logistic old','Logistic new'])\n",
    "compare"
   ]
  },
  {
   "cell_type": "code",
   "execution_count": null,
   "id": "fc7f618c-4e51-42fc-9273-68ed88efe73f",
   "metadata": {},
   "outputs": [],
   "source": [
    "coef = {'X1':[lgm2.coef_[0][0],lasso2.coef_[0],logit2.coef_[0][0]],'X2':[lgm2.coef_[0][1],lasso2.coef_[1],logit2.coef_[0][1]],'X3':[lgm2.coef_[0][2],lasso2.coef_[2],logit2.coef_[0][2]],'X4':[lgm2.coef_[0][3],lasso2.coef_[3],logit2.coef_[0][3]],'X5':[lgm2.coef_[0][4],lasso2.coef_[4],logit2.coef_[0][4]],'X6':[lgm2.coef_[0][5],lasso2.coef_[5],logit2.coef_[0][5]]}\n",
    "pd.DataFrame(coef, index =['Linear Reg', 'Lasso', 'Logistic'])"
   ]
  },
  {
   "cell_type": "markdown",
   "id": "5ae4c77a-dd50-4495-bdb2-6d16695d8780",
   "metadata": {},
   "source": [
    "By comparing the old model with the new model we can get that the overall accuracy is increasing and we can find out that the final accuracy is aroung 97% for logistic model which means this model is relatively good for the prediction. In Addition by comparing the MSE value for both new model and the old model we can find out that the new model MSE value is smaller than the old model MSE this also states that the overall model accuracy is good enough. "
   ]
  },
  {
   "cell_type": "markdown",
   "id": "4fbdb897-50dc-445e-8f3b-6d8ce11951d2",
   "metadata": {},
   "source": [
    "In addition by comparing the coefficient value of the new version model and old version model we can find out that this time the coefficient of the Lasso is no longer all 0s there more we can know that this model is better than the old version one. "
   ]
  },
  {
   "cell_type": "markdown",
   "id": "86df2311-6e24-4cc6-a984-8f30e61fa274",
   "metadata": {
    "tags": []
   },
   "source": [
    "# reference\n",
    "dataset：\n",
    "1. https://www.kaggle.com/datasets/rajyellow46/wine-quality/code\n",
    "2. https://www.kaggle.com/code/brendangberkman/wine-type-prediction this link is a prediction project that is similar to mine. I did not copy/paraphrase any code from this project, but just in case that there might be some similar code with this project. \n",
    "3. https://archive.ics.uci.edu/ml/datasets/wine+quality\n",
    "\n",
    "other reference：  \n",
    "1. https://blog.csdn.net/qq_31279347/article/details/82795405\n",
    "1. https://blog.csdn.net/wanglingli95/article/details/78887771\n",
    "3. https://datacarpentry.org/python-socialsci/11-joins/index.html\n",
    "4. https://www.cnblogs.com/yanjy-onlyone/p/11288098.html\n",
    "5. https://www.geeksforgeeks.org/how-to-convert-categorical-data-to-binary-data-in-python/\n",
    "6. https://scikit-learn.org/stable/modules/generated/sklearn.linear_model.LogisticRegression.html\n",
    "7. https://scikit-learn.org/stable/glossary.html#term-random_state\n",
    "8. https://stackoverflow.com/questions/36856428/attributeerror-function-object-has-no-attribute-bar-in-pandas\n",
    "9. https://stackoverflow.com/questions/52404971/get-a-list-of-categories-of-categorical-variable-python-pandas\n",
    "10. https://cmdlinetips.com/2019/03/how-to-make-grouped-boxplots-in-python-with-seaborn/\"\n",
    "11. https://www.javatpoint.com/how-to-create-a-dataframes-in-python\n",
    "12. https://moonbooks.org/Articles/How-to-add-a-legend-for-a-scatter-plot-in-matplotlib-/\n",
    "13. https://pythonprogramming.net/how-to-program-best-fit-line-machine-learning-tutorial/\n",
    "14. https://python-graph-gallery.com/3-control-color-of-barplots\n",
    "15. https://scikit-learn.org/stable/modules/linear_model.html\n",
    "16. https://git-lfs.github.com/\n",
    "17. https://towardsdatascience.com/linear-regression-in-python-9a1f5f000606\n",
    "18. https://stackoverflow.com/questions/42406233/how-to-add-title-to-seaborn-boxplot\n",
    "19. https://stackabuse.com/change-figure-size-in-matplotlib/\n",
    "20. https://www.adamsmith.haus/python/answers/how-to-change-the-font-size-of-a-matplotlib-legend-in-python\n",
    "21. https://datavizpyr.com/overlapping-histograms-with-matplotlib-in-python/"
   ]
  },
  {
   "cell_type": "code",
   "execution_count": null,
   "id": "8853e9d5-e7df-4764-a084-da0705a21a89",
   "metadata": {},
   "outputs": [],
   "source": []
  },
  {
   "cell_type": "code",
   "execution_count": null,
   "id": "9c73980f-eb6c-4259-ba33-aadc2768c34b",
   "metadata": {},
   "outputs": [],
   "source": []
  }
 ],
 "metadata": {
  "kernelspec": {
   "display_name": "Python 3 (ipykernel)",
   "language": "python",
   "name": "python3"
  },
  "language_info": {
   "codemirror_mode": {
    "name": "ipython",
    "version": 3
   },
   "file_extension": ".py",
   "mimetype": "text/x-python",
   "name": "python",
   "nbconvert_exporter": "python",
   "pygments_lexer": "ipython3",
   "version": "3.9.10"
  }
 },
 "nbformat": 4,
 "nbformat_minor": 5
}
